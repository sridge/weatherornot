{
 "cells": [
  {
   "cell_type": "code",
   "execution_count": 1,
   "metadata": {},
   "outputs": [],
   "source": [
    "import datetime\n",
    "import glob\n",
    "import os\n",
    "\n",
    "import matplotlib.pyplot as plt \n",
    "import numpy as np\n",
    "import pandas as pd\n",
    "import scipy.stats as stats\n",
    "import tensorflow as tf\n",
    "from tqdm import tqdm\n",
    "\n",
    "import utils"
   ]
  },
  {
   "cell_type": "code",
   "execution_count": 2,
   "metadata": {},
   "outputs": [
    {
     "data": {
      "text/html": [
       "<div>\n",
       "<style scoped>\n",
       "    .dataframe tbody tr th:only-of-type {\n",
       "        vertical-align: middle;\n",
       "    }\n",
       "\n",
       "    .dataframe tbody tr th {\n",
       "        vertical-align: top;\n",
       "    }\n",
       "\n",
       "    .dataframe thead th {\n",
       "        text-align: right;\n",
       "    }\n",
       "</style>\n",
       "<table border=\"1\" class=\"dataframe\">\n",
       "  <thead>\n",
       "    <tr style=\"text-align: right;\">\n",
       "      <th></th>\n",
       "      <th>p01i</th>\n",
       "      <th>snow</th>\n",
       "      <th>speed</th>\n",
       "      <th>weekday</th>\n",
       "      <th>hour</th>\n",
       "    </tr>\n",
       "  </thead>\n",
       "  <tbody>\n",
       "    <tr>\n",
       "      <th>18408</th>\n",
       "      <td>0.000000</td>\n",
       "      <td>0.0</td>\n",
       "      <td>0.879870</td>\n",
       "      <td>1.0</td>\n",
       "      <td>0.000000</td>\n",
       "    </tr>\n",
       "    <tr>\n",
       "      <th>18409</th>\n",
       "      <td>0.000000</td>\n",
       "      <td>0.0</td>\n",
       "      <td>0.855736</td>\n",
       "      <td>1.0</td>\n",
       "      <td>0.000000</td>\n",
       "    </tr>\n",
       "    <tr>\n",
       "      <th>18410</th>\n",
       "      <td>0.000000</td>\n",
       "      <td>0.0</td>\n",
       "      <td>0.782553</td>\n",
       "      <td>1.0</td>\n",
       "      <td>0.000000</td>\n",
       "    </tr>\n",
       "    <tr>\n",
       "      <th>18411</th>\n",
       "      <td>0.000000</td>\n",
       "      <td>0.0</td>\n",
       "      <td>0.718189</td>\n",
       "      <td>1.0</td>\n",
       "      <td>0.000000</td>\n",
       "    </tr>\n",
       "    <tr>\n",
       "      <th>18412</th>\n",
       "      <td>0.000000</td>\n",
       "      <td>0.0</td>\n",
       "      <td>0.817607</td>\n",
       "      <td>1.0</td>\n",
       "      <td>0.000000</td>\n",
       "    </tr>\n",
       "    <tr>\n",
       "      <th>...</th>\n",
       "      <td>...</td>\n",
       "      <td>...</td>\n",
       "      <td>...</td>\n",
       "      <td>...</td>\n",
       "      <td>...</td>\n",
       "    </tr>\n",
       "    <tr>\n",
       "      <th>104682</th>\n",
       "      <td>0.542884</td>\n",
       "      <td>0.0</td>\n",
       "      <td>-0.609834</td>\n",
       "      <td>1.0</td>\n",
       "      <td>-0.398401</td>\n",
       "    </tr>\n",
       "    <tr>\n",
       "      <th>104683</th>\n",
       "      <td>0.542884</td>\n",
       "      <td>0.0</td>\n",
       "      <td>-0.624427</td>\n",
       "      <td>1.0</td>\n",
       "      <td>-0.398401</td>\n",
       "    </tr>\n",
       "    <tr>\n",
       "      <th>104684</th>\n",
       "      <td>0.542884</td>\n",
       "      <td>0.0</td>\n",
       "      <td>-0.687163</td>\n",
       "      <td>1.0</td>\n",
       "      <td>-0.398401</td>\n",
       "    </tr>\n",
       "    <tr>\n",
       "      <th>104685</th>\n",
       "      <td>0.542884</td>\n",
       "      <td>0.0</td>\n",
       "      <td>-0.718764</td>\n",
       "      <td>1.0</td>\n",
       "      <td>-0.398401</td>\n",
       "    </tr>\n",
       "    <tr>\n",
       "      <th>104686</th>\n",
       "      <td>0.542884</td>\n",
       "      <td>0.0</td>\n",
       "      <td>-0.573955</td>\n",
       "      <td>1.0</td>\n",
       "      <td>-0.398401</td>\n",
       "    </tr>\n",
       "  </tbody>\n",
       "</table>\n",
       "<p>86279 rows × 5 columns</p>\n",
       "</div>"
      ],
      "text/plain": [
       "            p01i  snow     speed  weekday      hour\n",
       "18408   0.000000   0.0  0.879870      1.0  0.000000\n",
       "18409   0.000000   0.0  0.855736      1.0  0.000000\n",
       "18410   0.000000   0.0  0.782553      1.0  0.000000\n",
       "18411   0.000000   0.0  0.718189      1.0  0.000000\n",
       "18412   0.000000   0.0  0.817607      1.0  0.000000\n",
       "...          ...   ...       ...      ...       ...\n",
       "104682  0.542884   0.0 -0.609834      1.0 -0.398401\n",
       "104683  0.542884   0.0 -0.624427      1.0 -0.398401\n",
       "104684  0.542884   0.0 -0.687163      1.0 -0.398401\n",
       "104685  0.542884   0.0 -0.718764      1.0 -0.398401\n",
       "104686  0.542884   0.0 -0.573955      1.0 -0.398401\n",
       "\n",
       "[86279 rows x 5 columns]"
      ]
     },
     "execution_count": 2,
     "metadata": {},
     "output_type": "execute_result"
    }
   ],
   "source": [
    "df = pd.read_csv('df_norm_2019.csv',parse_dates=['time'])\n",
    "df = df[df['time'].isin(pd.date_range('2019-03-06','2019-12-31',freq='5min'))]\n",
    "time = df['time']\n",
    "df = df.drop('time',axis=1)\n",
    "df"
   ]
  },
  {
   "cell_type": "code",
   "execution_count": 3,
   "metadata": {},
   "outputs": [],
   "source": [
    "(train_df,val_df,test_df), num_features = utils.train_test_val_split(df)"
   ]
  },
  {
   "cell_type": "code",
   "execution_count": 4,
   "metadata": {},
   "outputs": [],
   "source": [
    "input_width = 72\n",
    "label_width = 72\n",
    "shift = label_width "
   ]
  },
  {
   "cell_type": "code",
   "execution_count": 5,
   "metadata": {},
   "outputs": [
    {
     "data": {
      "text/plain": [
       "Total window size: 144\n",
       "Input indices: [ 0  1  2  3  4  5  6  7  8  9 10 11 12 13 14 15 16 17 18 19 20 21 22 23\n",
       " 24 25 26 27 28 29 30 31 32 33 34 35 36 37 38 39 40 41 42 43 44 45 46 47\n",
       " 48 49 50 51 52 53 54 55 56 57 58 59 60 61 62 63 64 65 66 67 68 69 70 71]\n",
       "Label indices: [ 72  73  74  75  76  77  78  79  80  81  82  83  84  85  86  87  88  89\n",
       "  90  91  92  93  94  95  96  97  98  99 100 101 102 103 104 105 106 107\n",
       " 108 109 110 111 112 113 114 115 116 117 118 119 120 121 122 123 124 125\n",
       " 126 127 128 129 130 131 132 133 134 135 136 137 138 139 140 141 142 143]\n",
       "Label column name(s): ['speed']"
      ]
     },
     "execution_count": 5,
     "metadata": {},
     "output_type": "execute_result"
    }
   ],
   "source": [
    "w1 = utils.WindowGenerator(input_width, label_width, shift,train_df, val_df, test_df, label_columns=['speed'])\n",
    "w1"
   ]
  },
  {
   "cell_type": "code",
   "execution_count": 6,
   "metadata": {},
   "outputs": [
    {
     "name": "stdout",
     "output_type": "stream",
     "text": [
      "All shapes are: (batch, time, features)\n",
      "Window shape: (3, 144, 5)\n",
      "Inputs shape: (3, 72, 5)\n",
      "labels shape: (3, 72, 1)\n"
     ]
    }
   ],
   "source": [
    "example_window = tf.stack([np.array(train_df[:w1.total_window_size]),\n",
    "                           np.array(train_df[100:100+w1.total_window_size]),\n",
    "                           np.array(train_df[200:200+w1.total_window_size])])\n",
    "\n",
    "\n",
    "example_inputs, example_labels = w1.split_window(example_window)\n",
    "\n",
    "print('All shapes are: (batch, time, features)')\n",
    "print(f'Window shape: {example_window.shape}')\n",
    "print(f'Inputs shape: {example_inputs.shape}')\n",
    "print(f'labels shape: {example_labels.shape}')"
   ]
  },
  {
   "cell_type": "code",
   "execution_count": 7,
   "metadata": {},
   "outputs": [
    {
     "data": {
      "text/plain": [
       "<MapDataset shapes: ((None, 72, 5), (None, 72, 1)), types: (tf.float32, tf.float32)>"
      ]
     },
     "execution_count": 7,
     "metadata": {},
     "output_type": "execute_result"
    }
   ],
   "source": [
    "w1.make_dataset(w1.train_df)"
   ]
  },
  {
   "cell_type": "code",
   "execution_count": 8,
   "metadata": {},
   "outputs": [
    {
     "name": "stdout",
     "output_type": "stream",
     "text": [
      "Inputs shape (batch, time, features): (32, 72, 5)\n",
      "Labels shape (batch, time, features): (32, 72, 1)\n"
     ]
    }
   ],
   "source": [
    "for example_inputs, example_labels in w1.train.take(1):\n",
    "    print(f'Inputs shape (batch, time, features): {example_inputs.shape}')\n",
    "    print(f'Labels shape (batch, time, features): {example_labels.shape}')"
   ]
  },
  {
   "cell_type": "code",
   "execution_count": 9,
   "metadata": {},
   "outputs": [],
   "source": [
    "linear = tf.keras.Sequential([\n",
    "    tf.keras.layers.Dense(units=1)\n",
    "])"
   ]
  },
  {
   "cell_type": "code",
   "execution_count": 10,
   "metadata": {},
   "outputs": [
    {
     "name": "stdout",
     "output_type": "stream",
     "text": [
      "Input shape: (32, 72, 5)\n",
      "Output shape: (32, 72, 1)\n"
     ]
    }
   ],
   "source": [
    "print('Input shape:', w1.example[0].shape)\n",
    "print('Output shape:', linear(w1.example[0]).shape)"
   ]
  },
  {
   "cell_type": "code",
   "execution_count": 11,
   "metadata": {},
   "outputs": [],
   "source": [
    "val_performance = {}\n",
    "performance = {}"
   ]
  },
  {
   "cell_type": "code",
   "execution_count": 12,
   "metadata": {},
   "outputs": [
    {
     "name": "stdout",
     "output_type": "stream",
     "text": [
      "Epoch 1/20\n",
      "1883/1883 [==============================] - 7s 4ms/step - loss: 0.6991 - mean_absolute_error: 0.6879 - val_loss: 0.7104 - val_mean_absolute_error: 0.6950\n",
      "Epoch 2/20\n",
      "1883/1883 [==============================] - 7s 4ms/step - loss: 0.6470 - mean_absolute_error: 0.6570 - val_loss: 0.7071 - val_mean_absolute_error: 0.6919\n",
      "Epoch 3/20\n",
      "1883/1883 [==============================] - 13s 7ms/step - loss: 0.6467 - mean_absolute_error: 0.6567 - val_loss: 0.7076 - val_mean_absolute_error: 0.6922\n",
      "Epoch 4/20\n",
      "1883/1883 [==============================] - 9s 5ms/step - loss: 0.6467 - mean_absolute_error: 0.6566 - val_loss: 0.7077 - val_mean_absolute_error: 0.6921\n",
      "535/535 [==============================] - 2s 4ms/step - loss: 0.7077 - mean_absolute_error: 0.6921\n"
     ]
    }
   ],
   "source": [
    "history = utils.compile_and_fit(linear, w1)\n",
    "\n",
    "val_performance['Linear'] = linear.evaluate(w1.val)\n",
    "performance['Linear'] = linear.evaluate(w1.test, verbose=0)"
   ]
  },
  {
   "cell_type": "code",
   "execution_count": 13,
   "metadata": {},
   "outputs": [
    {
     "data": {
      "text/plain": [
       "[0.7738441824913025, 0.7189756035804749]"
      ]
     },
     "execution_count": 13,
     "metadata": {},
     "output_type": "execute_result"
    }
   ],
   "source": [
    "performance['Linear']"
   ]
  },
  {
   "cell_type": "code",
   "execution_count": 116,
   "metadata": {},
   "outputs": [
    {
     "data": {
      "text/plain": [
       "<matplotlib.collections.PathCollection at 0x7ea0e4c398b0>"
      ]
     },
     "execution_count": 116,
     "metadata": {},
     "output_type": "execute_result"
    },
    {
     "data": {
      "image/png": "[encoded data removed]",
      "text/plain": [
       "<Figure size 432x288 with 1 Axes>"
      ]
     },
     "metadata": {
      "needs_background": "light"
     },
     "output_type": "display_data"
    }
   ],
   "source": [
    "# plt.plot()\n",
    "ind_0 = np.random.randint(0,len(df)-1)\n",
    "width = 72\n",
    "\n",
    "prediction = linear.predict(df[ind_0:ind_0+width])\n",
    "\n",
    "plt.scatter(time[ind_0:ind_0+2*width],df[ind_0:ind_0+2*width]['speed'].values)\n",
    "\n",
    "plt.scatter(time[ind_0+width:ind_0+2*width],prediction)"
   ]
  },
  {
   "cell_type": "code",
   "execution_count": 15,
   "metadata": {},
   "outputs": [
    {
     "data": {
      "image/png": "[encoded data removed]",
      "text/plain": [
       "<Figure size 432x288 with 1 Axes>"
      ]
     },
     "metadata": {
      "needs_background": "light"
     },
     "output_type": "display_data"
    }
   ],
   "source": [
    "plt.bar(x = range(len(train_df.columns)),\n",
    "        height=linear.layers[0].kernel[:,0].numpy())\n",
    "axis = plt.gca()\n",
    "axis.set_xticks(range(len(train_df.columns)))\n",
    "_ = axis.set_xticklabels(train_df.columns, rotation=90)"
   ]
  },
  {
   "cell_type": "code",
   "execution_count": 16,
   "metadata": {},
   "outputs": [
    {
     "name": "stdout",
     "output_type": "stream",
     "text": [
      "Epoch 1/20\n",
      "1883/1883 [==============================] - 25s 13ms/step - loss: 0.4044 - mean_absolute_error: 0.4824 - val_loss: 0.4771 - val_mean_absolute_error: 0.5286\n",
      "Epoch 2/20\n",
      "1883/1883 [==============================] - 20s 10ms/step - loss: 0.3626 - mean_absolute_error: 0.4494 - val_loss: 0.4496 - val_mean_absolute_error: 0.5002\n",
      "Epoch 3/20\n",
      "1883/1883 [==============================] - 22s 12ms/step - loss: 0.3519 - mean_absolute_error: 0.4423 - val_loss: 0.4319 - val_mean_absolute_error: 0.4996\n",
      "Epoch 4/20\n",
      "1883/1883 [==============================] - 22s 12ms/step - loss: 0.3374 - mean_absolute_error: 0.4342 - val_loss: 0.4279 - val_mean_absolute_error: 0.4959\n",
      "Epoch 5/20\n",
      "1883/1883 [==============================] - 19s 10ms/step - loss: 0.3177 - mean_absolute_error: 0.4238 - val_loss: 0.3841 - val_mean_absolute_error: 0.4765\n",
      "Epoch 6/20\n",
      "1883/1883 [==============================] - 20s 11ms/step - loss: 0.3017 - mean_absolute_error: 0.4138 - val_loss: 0.3650 - val_mean_absolute_error: 0.4547\n",
      "Epoch 7/20\n",
      "1883/1883 [==============================] - 28s 15ms/step - loss: 0.2898 - mean_absolute_error: 0.4054 - val_loss: 0.3646 - val_mean_absolute_error: 0.4660\n",
      "Epoch 8/20\n",
      "1883/1883 [==============================] - 20s 11ms/step - loss: 0.2799 - mean_absolute_error: 0.3981 - val_loss: 0.3470 - val_mean_absolute_error: 0.4535\n",
      "Epoch 9/20\n",
      "1883/1883 [==============================] - 20s 11ms/step - loss: 0.2720 - mean_absolute_error: 0.3917 - val_loss: 0.3680 - val_mean_absolute_error: 0.4663\n",
      "Epoch 10/20\n",
      "1883/1883 [==============================] - 20s 11ms/step - loss: 0.2677 - mean_absolute_error: 0.3879 - val_loss: 0.3582 - val_mean_absolute_error: 0.4637\n",
      "535/535 [==============================] - 4s 7ms/step - loss: 0.3582 - mean_absolute_error: 0.4637\n"
     ]
    }
   ],
   "source": [
    "dense = tf.keras.Sequential([\n",
    "    tf.keras.layers.Dense(units=64, activation='relu'),\n",
    "    tf.keras.layers.Dense(units=64, activation='relu'),\n",
    "    tf.keras.layers.Dense(units=1)\n",
    "])\n",
    "\n",
    "history = utils.compile_and_fit(dense, w1)\n",
    "\n",
    "val_performance['Dense'] = dense.evaluate(w1.val)\n",
    "performance['Dense'] = dense.evaluate(w1.test, verbose=0)"
   ]
  },
  {
   "cell_type": "code",
   "execution_count": 33,
   "metadata": {},
   "outputs": [
    {
     "data": {
      "text/plain": [
       "array([ 96456,  96457,  96458, ..., 104684, 104685, 104686])"
      ]
     },
     "execution_count": 33,
     "metadata": {},
     "output_type": "execute_result"
    }
   ],
   "source": [
    "test_case[(test_case['p01i']>0) & (test_case['weekday']>0)].index.values"
   ]
  },
  {
   "cell_type": "code",
   "execution_count": 170,
   "metadata": {},
   "outputs": [
    {
     "data": {
      "text/plain": [
       "<matplotlib.collections.PathCollection at 0x7ea0e396ca90>"
      ]
     },
     "execution_count": 170,
     "metadata": {},
     "output_type": "execute_result"
    },
    {
     "data": {
      "image/png": "[encoded data removed]",
      "text/plain": [
       "<Figure size 432x288 with 1 Axes>"
      ]
     },
     "metadata": {
      "needs_background": "light"
     },
     "output_type": "display_data"
    }
   ],
   "source": [
    "test_case = w1.test_df\n",
    "inds = test_case[(test_case['p01i']>0) & (test_case['weekday']>0) & (test_case['snow']>0)].index\n",
    "ind_0 = np.random.randint(0,len(inds)-1)\n",
    "ind_0 = inds[ind_0]\n",
    "\n",
    "\n",
    "plt.scatter(time.loc[ind_0:ind_0+3*width],df.loc[ind_0:ind_0+3*width]['speed'].values)\n",
    "\n",
    "\n",
    "\n",
    "df_prec = df.loc[ind_0:ind_0+width].copy()\n",
    "df_prec['p01i'] = 0\n",
    "df_prec['snow'] = 0\n",
    "prediction = dense.predict(df_prec)\n",
    "\n",
    "plt.scatter(time.loc[ind_0+width:ind_0+2*width],prediction,label='no snow',c='tab:green')\n",
    "\n",
    "prediction = dense.predict(df.loc[ind_0:ind_0+width])\n",
    "plt.scatter(time.loc[ind_0+width:ind_0+2*width],prediction,label='observed snow',c='tab:orange')\n",
    "\n",
    "df_prec = df.loc[ind_0:ind_0+width].copy()\n",
    "df_prec['p01i'] = 1\n",
    "prediction = dense.predict(df_prec)\n",
    "plt.scatter(time.loc[ind_0+width:ind_0+2*width],prediction,label='heavy snow',c='tab:red')"
   ]
  },
  {
   "cell_type": "code",
   "execution_count": null,
   "metadata": {},
   "outputs": [],
   "source": []
  },
  {
   "cell_type": "code",
   "execution_count": null,
   "metadata": {},
   "outputs": [],
   "source": []
  }
 ],
 "metadata": {
  "kernelspec": {
   "display_name": "Python 3",
   "language": "python",
   "name": "python3"
  },
  "language_info": {
   "codemirror_mode": {
    "name": "ipython",
    "version": 3
   },
   "file_extension": ".py",
   "mimetype": "text/x-python",
   "name": "python",
   "nbconvert_exporter": "python",
   "pygments_lexer": "ipython3",
   "version": "3.8.3"
  }
 },
 "nbformat": 4,
 "nbformat_minor": 4
}

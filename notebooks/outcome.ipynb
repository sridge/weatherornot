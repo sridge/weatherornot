{
 "cells": [
  {
   "cell_type": "code",
   "execution_count": 1,
   "metadata": {},
   "outputs": [],
   "source": [
    "import datetime\n",
    "import glob\n",
    "import os\n",
    "\n",
    "import matplotlib.pyplot as plt \n",
    "import numpy as np\n",
    "import pandas as pd\n",
    "import scipy.stats as stats\n",
    "import tensorflow as tf\n",
    "from tqdm import tqdm\n",
    "\n",
    "import utils"
   ]
  },
  {
   "cell_type": "code",
   "execution_count": 3,
   "metadata": {},
   "outputs": [],
   "source": [
    "chour_dict = {'morning':'0400',\n",
    "              'afternoon':'1200',\n",
    "             }\n",
    "\n",
    "ampm = 'morning'\n",
    "\n",
    "width = 16\n",
    "\n",
    "critical_hour = chour_dict[ampm]\n",
    "\n",
    "df = pd.read_csv(f'merged_df_{ampm}.csv',parse_dates=['time'])\n",
    "time = df['time']\n",
    "df = df.drop(['time','liq_prec','frz_prec','tmpf','speed','speed_diff'],axis=1)"
   ]
  },
  {
   "cell_type": "code",
   "execution_count": 4,
   "metadata": {},
   "outputs": [],
   "source": [
    "(train_df,val_df,test_df), num_features = utils.train_test_val_split(df)"
   ]
  },
  {
   "cell_type": "code",
   "execution_count": 9,
   "metadata": {},
   "outputs": [],
   "source": [
    "day_list = []\n",
    "for group in df.groupby(time.dt.date):\n",
    "    if ((group[1]['frz_prec_pred']>0)).any():\n",
    "        day_list.append(group[1])"
   ]
  },
  {
   "cell_type": "code",
   "execution_count": 10,
   "metadata": {},
   "outputs": [
    {
     "data": {
      "text/plain": [
       "22"
      ]
     },
     "execution_count": 10,
     "metadata": {},
     "output_type": "execute_result"
    }
   ],
   "source": [
    "len(day_list)"
   ]
  },
  {
   "cell_type": "code",
   "execution_count": 11,
   "metadata": {},
   "outputs": [],
   "source": [
    "lstm_no = tf.keras.models.load_model(f'no_weather_{ampm}')\n",
    "lstm_wx = tf.keras.models.load_model(f'weather_{ampm}_test')"
   ]
  },
  {
   "cell_type": "code",
   "execution_count": 12,
   "metadata": {},
   "outputs": [],
   "source": [
    "def z_to_anom(value,name,ampm):\n",
    "    std = pd.read_csv(f'std_{ampm}.csv',index_col=0)\n",
    "    std = std.T[name].values\n",
    "    return (value*std)\n",
    "\n",
    "def z_to_value(value,name,ampm):\n",
    "    mn = pd.read_csv(f'mean_{ampm}.csv',index_col=0)\n",
    "    mn = mn.T[name].values\n",
    "    std = pd.read_csv(f'std_{ampm}.csv',index_col=0)\n",
    "    std = std.T[name].values\n",
    "    return (value*std)+mn\n",
    "\n",
    "def norm(value,name,ampm):\n",
    "    mn = pd.read_csv(f'mean_{ampm}.csv',index_col=0)\n",
    "    mn = mn.T[name].values\n",
    "    std = pd.read_csv(f'std_{ampm}.csv',index_col=0)\n",
    "    std = std.T[name].values\n",
    "    return (value-mn)/std"
   ]
  },
  {
   "cell_type": "code",
   "execution_count": 18,
   "metadata": {},
   "outputs": [
    {
     "data": {
      "text/html": [
       "<div>\n",
       "<style scoped>\n",
       "    .dataframe tbody tr th:only-of-type {\n",
       "        vertical-align: middle;\n",
       "    }\n",
       "\n",
       "    .dataframe tbody tr th {\n",
       "        vertical-align: top;\n",
       "    }\n",
       "\n",
       "    .dataframe thead th {\n",
       "        text-align: right;\n",
       "    }\n",
       "</style>\n",
       "<table border=\"1\" class=\"dataframe\">\n",
       "  <thead>\n",
       "    <tr style=\"text-align: right;\">\n",
       "      <th></th>\n",
       "      <th>frz_prec_pred</th>\n",
       "      <th>liq_prec_pred</th>\n",
       "      <th>hour</th>\n",
       "      <th>speed_anom</th>\n",
       "    </tr>\n",
       "  </thead>\n",
       "  <tbody>\n",
       "    <tr>\n",
       "      <th>frz_prec_pred</th>\n",
       "      <td>1.000000</td>\n",
       "      <td>0.089419</td>\n",
       "      <td>-0.256188</td>\n",
       "      <td>-0.381718</td>\n",
       "    </tr>\n",
       "    <tr>\n",
       "      <th>liq_prec_pred</th>\n",
       "      <td>0.089419</td>\n",
       "      <td>1.000000</td>\n",
       "      <td>0.088002</td>\n",
       "      <td>0.228112</td>\n",
       "    </tr>\n",
       "    <tr>\n",
       "      <th>hour</th>\n",
       "      <td>-0.256188</td>\n",
       "      <td>0.088002</td>\n",
       "      <td>1.000000</td>\n",
       "      <td>-0.058548</td>\n",
       "    </tr>\n",
       "    <tr>\n",
       "      <th>speed_anom</th>\n",
       "      <td>-0.381718</td>\n",
       "      <td>0.228112</td>\n",
       "      <td>-0.058548</td>\n",
       "      <td>1.000000</td>\n",
       "    </tr>\n",
       "  </tbody>\n",
       "</table>\n",
       "</div>"
      ],
      "text/plain": [
       "               frz_prec_pred  liq_prec_pred      hour  speed_anom\n",
       "frz_prec_pred       1.000000       0.089419 -0.256188   -0.381718\n",
       "liq_prec_pred       0.089419       1.000000  0.088002    0.228112\n",
       "hour               -0.256188       0.088002  1.000000   -0.058548\n",
       "speed_anom         -0.381718       0.228112 -0.058548    1.000000"
      ]
     },
     "execution_count": 18,
     "metadata": {},
     "output_type": "execute_result"
    }
   ],
   "source": [
    "df[df['frz_prec_pred']>0].corr()"
   ]
  },
  {
   "cell_type": "code",
   "execution_count": 17,
   "metadata": {},
   "outputs": [
    {
     "data": {
      "text/html": [
       "<div>\n",
       "<style scoped>\n",
       "    .dataframe tbody tr th:only-of-type {\n",
       "        vertical-align: middle;\n",
       "    }\n",
       "\n",
       "    .dataframe tbody tr th {\n",
       "        vertical-align: top;\n",
       "    }\n",
       "\n",
       "    .dataframe thead th {\n",
       "        text-align: right;\n",
       "    }\n",
       "</style>\n",
       "<table border=\"1\" class=\"dataframe\">\n",
       "  <thead>\n",
       "    <tr style=\"text-align: right;\">\n",
       "      <th></th>\n",
       "      <th>frz_prec_pred</th>\n",
       "      <th>liq_prec_pred</th>\n",
       "      <th>hour</th>\n",
       "      <th>speed_anom</th>\n",
       "    </tr>\n",
       "  </thead>\n",
       "  <tbody>\n",
       "    <tr>\n",
       "      <th>frz_prec_pred</th>\n",
       "      <td>1.000000</td>\n",
       "      <td>0.025666</td>\n",
       "      <td>0.023509</td>\n",
       "      <td>0.058964</td>\n",
       "    </tr>\n",
       "    <tr>\n",
       "      <th>liq_prec_pred</th>\n",
       "      <td>0.025666</td>\n",
       "      <td>1.000000</td>\n",
       "      <td>-0.057271</td>\n",
       "      <td>-0.212249</td>\n",
       "    </tr>\n",
       "    <tr>\n",
       "      <th>hour</th>\n",
       "      <td>0.023509</td>\n",
       "      <td>-0.057271</td>\n",
       "      <td>1.000000</td>\n",
       "      <td>-0.043850</td>\n",
       "    </tr>\n",
       "    <tr>\n",
       "      <th>speed_anom</th>\n",
       "      <td>0.058964</td>\n",
       "      <td>-0.212249</td>\n",
       "      <td>-0.043850</td>\n",
       "      <td>1.000000</td>\n",
       "    </tr>\n",
       "  </tbody>\n",
       "</table>\n",
       "</div>"
      ],
      "text/plain": [
       "               frz_prec_pred  liq_prec_pred      hour  speed_anom\n",
       "frz_prec_pred       1.000000       0.025666  0.023509    0.058964\n",
       "liq_prec_pred       0.025666       1.000000 -0.057271   -0.212249\n",
       "hour                0.023509      -0.057271  1.000000   -0.043850\n",
       "speed_anom          0.058964      -0.212249 -0.043850    1.000000"
      ]
     },
     "execution_count": 17,
     "metadata": {},
     "output_type": "execute_result"
    }
   ],
   "source": [
    "df[df['liq_prec_pred']>0].corr()"
   ]
  },
  {
   "cell_type": "code",
   "execution_count": 19,
   "metadata": {},
   "outputs": [],
   "source": [
    "tem = test_df[(test_df['liq_prec_pred']>0)]"
   ]
  },
  {
   "cell_type": "code",
   "execution_count": 20,
   "metadata": {},
   "outputs": [],
   "source": [
    "time_test = time[tem.index]"
   ]
  },
  {
   "cell_type": "code",
   "execution_count": 21,
   "metadata": {},
   "outputs": [],
   "source": [
    "forecast_starts = pd.date_range(f'2015-01-01 {critical_hour}',f'2019-12-31 {critical_hour}',freq='24h')\n",
    "# valid_inds = time_test[time_test.isin(forecast_starts)].index\n",
    "valid_inds = time_test[(time_test.dt.hour<10) & (time_test.dt.hour>4)].index"
   ]
  },
  {
   "cell_type": "code",
   "execution_count": 24,
   "metadata": {},
   "outputs": [
    {
     "name": "stdout",
     "output_type": "stream",
     "text": [
      "0.5555605652238194\n"
     ]
    }
   ],
   "source": [
    "rmse = np.ones(len(valid_inds))\n",
    "val = np.ones((len(valid_inds),8))*np.nan\n",
    "pred = np.ones((len(valid_inds),8))*np.nan\n",
    "\n",
    "\n",
    "for ind_val,ind in enumerate(valid_inds):\n",
    "        pred_i = lstm_wx.predict(df[ind:ind+width].values[np.newaxis,])\n",
    "        pred_i = pred_i[0,:,1]\n",
    "        val_i = df[ind+width:ind+2*width]['speed_anom']\n",
    "        if len(val_i) > 7:\n",
    "            rmse[ind_val] = np.sqrt(((val_i.values-pred_i.T)**2).mean())\n",
    "\n",
    "print(rmse.mean())\n",
    "# print(no_norm(rmse.mean(),'speed_anom',mn,std))"
   ]
  },
  {
   "cell_type": "code",
   "execution_count": 27,
   "metadata": {},
   "outputs": [],
   "source": [
    "df_no = df.drop(['liq_prec_pred','frz_prec_pred'],axis=1)"
   ]
  },
  {
   "cell_type": "code",
   "execution_count": 28,
   "metadata": {},
   "outputs": [],
   "source": [
    "def no_norm(value,name,mn,std):\n",
    "    return (value*std)[name].values[0]"
   ]
  },
  {
   "cell_type": "code",
   "execution_count": 30,
   "metadata": {},
   "outputs": [
    {
     "name": "stdout",
     "output_type": "stream",
     "text": [
      "0.5675943700569179\n"
     ]
    }
   ],
   "source": [
    "rmse = np.ones(len(valid_inds))\n",
    "val = np.ones((len(valid_inds),8))*np.nan\n",
    "pred = np.ones((len(valid_inds),8))*np.nan\n",
    "\n",
    "for ind_val,ind in enumerate(valid_inds):\n",
    "        pred_i = lstm_no.predict(df_no[ind:ind+width].values[np.newaxis,])\n",
    "        pred_i = pred_i[0,:,1]\n",
    "        val_i = df_no[ind+width:ind+2*width]['speed_anom']\n",
    "        if len(val_i) > 7:\n",
    "            rmse[ind_val] = np.sqrt(((val_i.values-pred_i.T)**2).mean())\n",
    "print(rmse.mean())"
   ]
  },
  {
   "cell_type": "code",
   "execution_count": null,
   "metadata": {},
   "outputs": [],
   "source": []
  }
 ],
 "metadata": {
  "kernelspec": {
   "display_name": "Python 3",
   "language": "python",
   "name": "python3"
  },
  "language_info": {
   "codemirror_mode": {
    "name": "ipython",
    "version": 3
   },
   "file_extension": ".py",
   "mimetype": "text/x-python",
   "name": "python",
   "nbconvert_exporter": "python",
   "pygments_lexer": "ipython3",
   "version": "3.8.3"
  }
 },
 "nbformat": 4,
 "nbformat_minor": 4
}

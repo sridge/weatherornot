{
 "cells": [
  {
   "cell_type": "code",
   "execution_count": 1,
   "metadata": {},
   "outputs": [],
   "source": [
    "import datetime\n",
    "import glob\n",
    "import os\n",
    "\n",
    "import matplotlib.pyplot as plt \n",
    "import numpy as np\n",
    "import pandas as pd\n",
    "import scipy.stats as stats\n",
    "import tensorflow as tf\n",
    "from tqdm import tqdm\n",
    "\n",
    "import utils"
   ]
  },
  {
   "cell_type": "code",
   "execution_count": 2,
   "metadata": {},
   "outputs": [
    {
     "data": {
      "text/html": [
       "<div>\n",
       "<style scoped>\n",
       "    .dataframe tbody tr th:only-of-type {\n",
       "        vertical-align: middle;\n",
       "    }\n",
       "\n",
       "    .dataframe tbody tr th {\n",
       "        vertical-align: top;\n",
       "    }\n",
       "\n",
       "    .dataframe thead th {\n",
       "        text-align: right;\n",
       "    }\n",
       "</style>\n",
       "<table border=\"1\" class=\"dataframe\">\n",
       "  <thead>\n",
       "    <tr style=\"text-align: right;\">\n",
       "      <th></th>\n",
       "      <th>p01i</th>\n",
       "      <th>p01i_pred</th>\n",
       "      <th>speed</th>\n",
       "      <th>hour</th>\n",
       "      <th>speed_diff</th>\n",
       "      <th>lt_32</th>\n",
       "    </tr>\n",
       "  </thead>\n",
       "  <tbody>\n",
       "    <tr>\n",
       "      <th>0</th>\n",
       "      <td>0.0</td>\n",
       "      <td>-0.162157</td>\n",
       "      <td>1.665056</td>\n",
       "      <td>0.512212</td>\n",
       "      <td>0.058170</td>\n",
       "      <td>-0.334726</td>\n",
       "    </tr>\n",
       "    <tr>\n",
       "      <th>1</th>\n",
       "      <td>0.0</td>\n",
       "      <td>-0.162157</td>\n",
       "      <td>1.671025</td>\n",
       "      <td>0.611799</td>\n",
       "      <td>0.176360</td>\n",
       "      <td>-0.334726</td>\n",
       "    </tr>\n",
       "    <tr>\n",
       "      <th>2</th>\n",
       "      <td>0.0</td>\n",
       "      <td>-0.162157</td>\n",
       "      <td>1.676994</td>\n",
       "      <td>0.698988</td>\n",
       "      <td>0.176360</td>\n",
       "      <td>-0.334726</td>\n",
       "    </tr>\n",
       "    <tr>\n",
       "      <th>3</th>\n",
       "      <td>0.0</td>\n",
       "      <td>-0.162157</td>\n",
       "      <td>1.682963</td>\n",
       "      <td>0.773405</td>\n",
       "      <td>0.176360</td>\n",
       "      <td>-0.334726</td>\n",
       "    </tr>\n",
       "    <tr>\n",
       "      <th>4</th>\n",
       "      <td>0.0</td>\n",
       "      <td>-0.162157</td>\n",
       "      <td>1.688933</td>\n",
       "      <td>0.834731</td>\n",
       "      <td>0.176360</td>\n",
       "      <td>-0.334726</td>\n",
       "    </tr>\n",
       "    <tr>\n",
       "      <th>5</th>\n",
       "      <td>0.0</td>\n",
       "      <td>-0.162157</td>\n",
       "      <td>1.500661</td>\n",
       "      <td>0.882704</td>\n",
       "      <td>-0.592839</td>\n",
       "      <td>-0.334726</td>\n",
       "    </tr>\n",
       "    <tr>\n",
       "      <th>6</th>\n",
       "      <td>0.0</td>\n",
       "      <td>-0.162157</td>\n",
       "      <td>1.251523</td>\n",
       "      <td>0.917117</td>\n",
       "      <td>-0.833868</td>\n",
       "      <td>-0.334726</td>\n",
       "    </tr>\n",
       "    <tr>\n",
       "      <th>7</th>\n",
       "      <td>0.0</td>\n",
       "      <td>-0.162157</td>\n",
       "      <td>1.081452</td>\n",
       "      <td>0.937824</td>\n",
       "      <td>-0.520763</td>\n",
       "      <td>-0.334726</td>\n",
       "    </tr>\n",
       "  </tbody>\n",
       "</table>\n",
       "</div>"
      ],
      "text/plain": [
       "   p01i  p01i_pred     speed      hour  speed_diff     lt_32\n",
       "0   0.0  -0.162157  1.665056  0.512212    0.058170 -0.334726\n",
       "1   0.0  -0.162157  1.671025  0.611799    0.176360 -0.334726\n",
       "2   0.0  -0.162157  1.676994  0.698988    0.176360 -0.334726\n",
       "3   0.0  -0.162157  1.682963  0.773405    0.176360 -0.334726\n",
       "4   0.0  -0.162157  1.688933  0.834731    0.176360 -0.334726\n",
       "5   0.0  -0.162157  1.500661  0.882704   -0.592839 -0.334726\n",
       "6   0.0  -0.162157  1.251523  0.917117   -0.833868 -0.334726\n",
       "7   0.0  -0.162157  1.081452  0.937824   -0.520763 -0.334726"
      ]
     },
     "execution_count": 2,
     "metadata": {},
     "output_type": "execute_result"
    }
   ],
   "source": [
    "chour_dict = {'morning':'04',\n",
    "              'afternoon':'12',\n",
    "             }\n",
    "\n",
    "ampm = 'morning'\n",
    "\n",
    "critical_hour = chour_dict[ampm]\n",
    "\n",
    "\n",
    "df = pd.read_csv(f'merged_df_{ampm}.csv',parse_dates=['time'])\n",
    "time = df['time']\n",
    "df = df.drop(['time','tmpf','tmpf_pred'],axis=1)\n",
    "df = df.interpolate('linear')\n",
    "df.head(8)"
   ]
  },
  {
   "cell_type": "code",
   "execution_count": 3,
   "metadata": {},
   "outputs": [],
   "source": [
    "(train_df,val_df,test_df), num_features = utils.train_test_val_split(df)"
   ]
  },
  {
   "cell_type": "code",
   "execution_count": 4,
   "metadata": {},
   "outputs": [],
   "source": [
    "input_width = 8\n",
    "label_width = 8\n",
    "shift = label_width "
   ]
  },
  {
   "cell_type": "code",
   "execution_count": 5,
   "metadata": {},
   "outputs": [
    {
     "data": {
      "text/plain": [
       "Total window size: 16\n",
       "Input indices: [0 1 2 3 4 5 6 7]\n",
       "Label indices: [ 8  9 10 11 12 13 14 15]\n",
       "Label column name(s): ['speed']"
      ]
     },
     "execution_count": 5,
     "metadata": {},
     "output_type": "execute_result"
    }
   ],
   "source": [
    "w1 = utils.WindowGenerator(input_width, label_width, shift,train_df, val_df, test_df, label_columns=['speed'])\n",
    "w1"
   ]
  },
  {
   "cell_type": "code",
   "execution_count": 6,
   "metadata": {},
   "outputs": [
    {
     "name": "stdout",
     "output_type": "stream",
     "text": [
      "All shapes are: (batch, time, features)\n",
      "Window shape: (3, 16, 6)\n",
      "Inputs shape: (3, 8, 6)\n",
      "labels shape: (3, 8, 1)\n"
     ]
    }
   ],
   "source": [
    "example_window = tf.stack([np.array(train_df[:w1.total_window_size]),\n",
    "                           np.array(train_df[100:100+w1.total_window_size]),\n",
    "                           np.array(train_df[200:200+w1.total_window_size])])\n",
    "\n",
    "\n",
    "example_inputs, example_labels = w1.split_window(example_window)\n",
    "\n",
    "print('All shapes are: (batch, time, features)')\n",
    "print(f'Window shape: {example_window.shape}')\n",
    "print(f'Inputs shape: {example_inputs.shape}')\n",
    "print(f'labels shape: {example_labels.shape}')"
   ]
  },
  {
   "cell_type": "code",
   "execution_count": 7,
   "metadata": {},
   "outputs": [],
   "source": [
    "w1.make_dataset(w1.train_df)\n",
    "\n",
    "test_case = w1.train_df.copy()"
   ]
  },
  {
   "cell_type": "code",
   "execution_count": 8,
   "metadata": {},
   "outputs": [
    {
     "name": "stdout",
     "output_type": "stream",
     "text": [
      "Inputs shape (batch, time, features): (32, 8, 6)\n",
      "Labels shape (batch, time, features): (32, 8, 1)\n"
     ]
    }
   ],
   "source": [
    "for example_inputs, example_labels in w1.train.take(1):\n",
    "    print(f'Inputs shape (batch, time, features): {example_inputs.shape}')\n",
    "    print(f'Labels shape (batch, time, features): {example_labels.shape}')"
   ]
  },
  {
   "cell_type": "code",
   "execution_count": 9,
   "metadata": {},
   "outputs": [],
   "source": [
    "linear = tf.keras.Sequential([\n",
    "    tf.keras.layers.Dense(units=1)\n",
    "])"
   ]
  },
  {
   "cell_type": "code",
   "execution_count": 10,
   "metadata": {},
   "outputs": [
    {
     "name": "stdout",
     "output_type": "stream",
     "text": [
      "Input shape: (32, 8, 6)\n",
      "Output shape: (32, 8, 1)\n"
     ]
    }
   ],
   "source": [
    "print('Input shape:', w1.example[0].shape)\n",
    "print('Output shape:', linear(w1.example[0]).shape)"
   ]
  },
  {
   "cell_type": "code",
   "execution_count": 11,
   "metadata": {},
   "outputs": [],
   "source": [
    "val_performance = {}\n",
    "performance = {}"
   ]
  },
  {
   "cell_type": "code",
   "execution_count": 12,
   "metadata": {},
   "outputs": [
    {
     "name": "stdout",
     "output_type": "stream",
     "text": [
      "Epoch 1/20\n",
      "546/546 [==============================] - 3s 6ms/step - loss: 1.3296 - mean_absolute_error: 0.8837 - val_loss: 0.5813 - val_mean_absolute_error: 0.6091\n",
      "Epoch 2/20\n",
      "546/546 [==============================] - 3s 5ms/step - loss: 0.6884 - mean_absolute_error: 0.6395 - val_loss: 0.3763 - val_mean_absolute_error: 0.4992\n",
      "Epoch 3/20\n",
      "546/546 [==============================] - 3s 5ms/step - loss: 0.5203 - mean_absolute_error: 0.5702 - val_loss: 0.3488 - val_mean_absolute_error: 0.4878\n",
      "Epoch 4/20\n",
      "546/546 [==============================] - 2s 4ms/step - loss: 0.4932 - mean_absolute_error: 0.5626 - val_loss: 0.3511 - val_mean_absolute_error: 0.4913\n",
      "156/156 [==============================] - 0s 3ms/step - loss: 0.3511 - mean_absolute_error: 0.4913\n"
     ]
    }
   ],
   "source": [
    "history = utils.compile_and_fit(linear, w1)\n",
    "\n",
    "val_performance['Linear'] = linear.evaluate(w1.val)\n",
    "performance['Linear'] = linear.evaluate(w1.test, verbose=0)"
   ]
  },
  {
   "cell_type": "code",
   "execution_count": 13,
   "metadata": {},
   "outputs": [
    {
     "data": {
      "text/plain": [
       "[0.4367945194244385, 0.5368000864982605]"
      ]
     },
     "execution_count": 13,
     "metadata": {},
     "output_type": "execute_result"
    }
   ],
   "source": [
    "performance['Linear']"
   ]
  },
  {
   "cell_type": "code",
   "execution_count": 14,
   "metadata": {},
   "outputs": [],
   "source": [
    "time_test = time[w1.test_df.index]\n",
    "forecast_starts = pd.date_range(f'2015-01-01 {critical_hour}',f'2019-12-31 {critical_hour}',freq='24h')\n",
    "valid_inds = time_test[time_test.isin(forecast_starts)].index"
   ]
  },
  {
   "cell_type": "code",
   "execution_count": 15,
   "metadata": {},
   "outputs": [
    {
     "name": "stdout",
     "output_type": "stream",
     "text": [
      "WARNING:tensorflow:Model was constructed with shape (None, 8, 6) for input Tensor(\"dense_input_1:0\", shape=(None, 8, 6), dtype=float32), but it was called on an input with incompatible shape (None, 6).\n"
     ]
    },
    {
     "data": {
      "text/plain": [
       "(-2.5, 1.5)"
      ]
     },
     "execution_count": 15,
     "metadata": {},
     "output_type": "execute_result"
    },
    {
     "data": {
      "image/png": "[encoded data removed]",
      "text/plain": [
       "<Figure size 432x288 with 1 Axes>"
      ]
     },
     "metadata": {
      "needs_background": "light"
     },
     "output_type": "display_data"
    }
   ],
   "source": [
    "rand_ind = np.random.randint(0,len(valid_inds)-1)\n",
    "ind_0 = valid_inds[rand_ind]\n",
    "\n",
    "width = 8\n",
    "ticks = '1H'\n",
    "\n",
    "prediction = linear.predict(df[ind_0:ind_0+width])\n",
    "\n",
    "plt.scatter(time[ind_0:ind_0+3*width],df[ind_0:ind_0+3*width]['speed'].values,label='observed')\n",
    "\n",
    "plt.scatter(time[ind_0+width:ind_0+2*width],prediction,label='prediction')\n",
    "\n",
    "plt.grid()\n",
    "start = time.loc[ind_0]\n",
    "end = time.loc[ind_0+3*width]\n",
    "dates = pd.date_range(start=start,end=end,freq=ticks)\n",
    "plt.xticks(ticks = dates,labels = dates,rotation=45,ha='right',size=10)\n",
    "plt.legend()\n",
    "plt.ylim(-2.5,1.5)"
   ]
  },
  {
   "cell_type": "code",
   "execution_count": 16,
   "metadata": {},
   "outputs": [
    {
     "data": {
      "image/png": "[encoded data removed]",
      "text/plain": [
       "<Figure size 432x288 with 1 Axes>"
      ]
     },
     "metadata": {
      "needs_background": "light"
     },
     "output_type": "display_data"
    }
   ],
   "source": [
    "plt.bar(x = range(len(train_df.columns)),\n",
    "        height=linear.layers[0].kernel[:,0].numpy())\n",
    "axis = plt.gca()\n",
    "axis.set_xticks(range(len(train_df.columns)))\n",
    "_ = axis.set_xticklabels(train_df.columns, rotation=90)"
   ]
  },
  {
   "cell_type": "code",
   "execution_count": 17,
   "metadata": {},
   "outputs": [
    {
     "name": "stdout",
     "output_type": "stream",
     "text": [
      "Epoch 1/20\n",
      "546/546 [==============================] - 4s 7ms/step - loss: 0.4405 - mean_absolute_error: 0.5236 - val_loss: 0.3128 - val_mean_absolute_error: 0.4405\n",
      "Epoch 2/20\n",
      "546/546 [==============================] - 4s 7ms/step - loss: 0.3670 - mean_absolute_error: 0.4639 - val_loss: 0.2690 - val_mean_absolute_error: 0.4053\n",
      "Epoch 3/20\n",
      "546/546 [==============================] - 4s 7ms/step - loss: 0.3362 - mean_absolute_error: 0.4351 - val_loss: 0.2532 - val_mean_absolute_error: 0.3799\n",
      "Epoch 4/20\n",
      "546/546 [==============================] - 6s 11ms/step - loss: 0.3249 - mean_absolute_error: 0.4247 - val_loss: 0.2430 - val_mean_absolute_error: 0.3750\n",
      "Epoch 5/20\n",
      "546/546 [==============================] - 4s 8ms/step - loss: 0.3163 - mean_absolute_error: 0.4170 - val_loss: 0.2413 - val_mean_absolute_error: 0.3745\n",
      "Epoch 6/20\n",
      "546/546 [==============================] - 4s 7ms/step - loss: 0.3124 - mean_absolute_error: 0.4133 - val_loss: 0.2370 - val_mean_absolute_error: 0.3706\n",
      "Epoch 7/20\n",
      "546/546 [==============================] - 4s 8ms/step - loss: 0.3082 - mean_absolute_error: 0.4092 - val_loss: 0.2383 - val_mean_absolute_error: 0.3695\n",
      "156/156 [==============================] - 1s 5ms/step - loss: 0.2383 - mean_absolute_error: 0.3695\n"
     ]
    }
   ],
   "source": [
    "dense = tf.keras.Sequential([\n",
    "    tf.keras.layers.Dense(units=64, activation='relu'),\n",
    "    tf.keras.layers.Dense(units=64, activation='relu'),\n",
    "    tf.keras.layers.Dense(units=1)\n",
    "])\n",
    "\n",
    "history = utils.compile_and_fit(dense, w1)\n",
    "\n",
    "val_performance['Dense'] = dense.evaluate(w1.val)\n",
    "performance['Dense'] = dense.evaluate(w1.test, verbose=0)"
   ]
  },
  {
   "cell_type": "code",
   "execution_count": 18,
   "metadata": {},
   "outputs": [
    {
     "name": "stdout",
     "output_type": "stream",
     "text": [
      "WARNING:tensorflow:Model was constructed with shape (None, 8, 6) for input Tensor(\"dense_1_input:0\", shape=(None, 8, 6), dtype=float32), but it was called on an input with incompatible shape (None, 6).\n"
     ]
    },
    {
     "data": {
      "text/plain": [
       "(-2.5, 1.5)"
      ]
     },
     "execution_count": 18,
     "metadata": {},
     "output_type": "execute_result"
    },
    {
     "data": {
      "image/png": "[encoded data removed]",
      "text/plain": [
       "<Figure size 432x288 with 1 Axes>"
      ]
     },
     "metadata": {
      "needs_background": "light"
     },
     "output_type": "display_data"
    }
   ],
   "source": [
    "rand_ind = np.random.randint(0,len(valid_inds)-1)\n",
    "ind_0 = valid_inds[rand_ind]\n",
    "\n",
    "width = 8\n",
    "ticks = '1H'\n",
    "\n",
    "prediction = dense.predict(df[ind_0:ind_0+width])\n",
    "\n",
    "plt.scatter(time[ind_0:ind_0+3*width],df[ind_0:ind_0+3*width]['speed'].values,label='observed')\n",
    "\n",
    "plt.scatter(time[ind_0+width:ind_0+2*width],prediction,label='prediction')\n",
    "\n",
    "plt.grid()\n",
    "start = time.loc[ind_0]\n",
    "end = time.loc[ind_0+3*width]\n",
    "dates = pd.date_range(start=start,end=end,freq=ticks)\n",
    "plt.xticks(ticks = dates,labels = dates,rotation=45,ha='right',size=10)\n",
    "plt.legend()\n",
    "plt.ylim(-2.5,1.5)"
   ]
  },
  {
   "cell_type": "code",
   "execution_count": 19,
   "metadata": {},
   "outputs": [
    {
     "name": "stdout",
     "output_type": "stream",
     "text": [
      "Epoch 1/20\n",
      "546/546 [==============================] - 6s 10ms/step - loss: 0.3590 - mean_absolute_error: 0.4479 - val_loss: 0.2049 - val_mean_absolute_error: 0.3384\n",
      "Epoch 2/20\n",
      "546/546 [==============================] - 5s 10ms/step - loss: 0.2094 - mean_absolute_error: 0.3375 - val_loss: 0.1777 - val_mean_absolute_error: 0.3116\n",
      "Epoch 3/20\n",
      "546/546 [==============================] - 6s 10ms/step - loss: 0.1885 - mean_absolute_error: 0.3182 - val_loss: 0.1632 - val_mean_absolute_error: 0.2996\n",
      "Epoch 4/20\n",
      "546/546 [==============================] - 7s 12ms/step - loss: 0.1778 - mean_absolute_error: 0.3080 - val_loss: 0.1585 - val_mean_absolute_error: 0.2900\n",
      "Epoch 5/20\n",
      "546/546 [==============================] - 6s 11ms/step - loss: 0.1693 - mean_absolute_error: 0.2995 - val_loss: 0.1552 - val_mean_absolute_error: 0.2900\n",
      "Epoch 6/20\n",
      "546/546 [==============================] - 6s 11ms/step - loss: 0.1642 - mean_absolute_error: 0.2945 - val_loss: 0.1474 - val_mean_absolute_error: 0.2814\n",
      "Epoch 7/20\n",
      "546/546 [==============================] - 5s 9ms/step - loss: 0.1607 - mean_absolute_error: 0.2909 - val_loss: 0.1454 - val_mean_absolute_error: 0.2778\n",
      "Epoch 8/20\n",
      "546/546 [==============================] - 5s 9ms/step - loss: 0.1568 - mean_absolute_error: 0.2870 - val_loss: 0.1460 - val_mean_absolute_error: 0.2808\n",
      "156/156 [==============================] - 1s 5ms/step - loss: 0.1460 - mean_absolute_error: 0.2808\n"
     ]
    }
   ],
   "source": [
    "multi_lstm_model = tf.keras.Sequential([\n",
    "    # Shape [batch, time, features] => [batch, lstm_units]\n",
    "    # Adding more `lstm_units` just overfits more quickly.\n",
    "    tf.keras.layers.LSTM(32, return_sequences=False),\n",
    "    # Shape => [batch, out_steps*features]\n",
    "    tf.keras.layers.Dense(label_width*num_features,\n",
    "                          kernel_initializer=tf.keras.initializers.glorot_normal(),\n",
    "                          bias_initializer=tf.keras.initializers.zeros()),\n",
    "    # Shape => [batch, out_steps, features]\n",
    "    tf.keras.layers.Reshape([label_width, num_features])\n",
    "])\n",
    "\n",
    "history = utils.compile_and_fit(multi_lstm_model, w1)\n",
    "\n",
    "val_performance['LSTM'] = multi_lstm_model.evaluate(w1.val)\n",
    "performance['LSTM'] = multi_lstm_model.evaluate(w1.test, verbose=0)"
   ]
  },
  {
   "cell_type": "code",
   "execution_count": 47,
   "metadata": {},
   "outputs": [],
   "source": [
    "time_test = time[(df['lt_32']>1) & (df['p01i']>0)]\n",
    "# time_test = time[df.index]\n",
    "forecast_starts = pd.date_range(f'2015-01-01 {critical_hour}',f'2019-12-31 {critical_hour}',freq='24h')\n",
    "valid_inds = time_test[time_test.isin(forecast_starts)].index"
   ]
  },
  {
   "cell_type": "code",
   "execution_count": 48,
   "metadata": {},
   "outputs": [
    {
     "data": {
      "text/plain": [
       "(-2.5, 1.5)"
      ]
     },
     "execution_count": 48,
     "metadata": {},
     "output_type": "execute_result"
    },
    {
     "data": {
      "image/png": "[encoded data removed]",
      "text/plain": [
       "<Figure size 432x288 with 1 Axes>"
      ]
     },
     "metadata": {
      "needs_background": "light"
     },
     "output_type": "display_data"
    }
   ],
   "source": [
    "rand_ind = np.random.randint(0,len(valid_inds)-1)\n",
    "ind_0 = valid_inds[rand_ind]\n",
    "\n",
    "width = 8\n",
    "ticks = '1H'\n",
    "\n",
    "prediction = multi_lstm_model.predict(df[ind_0:ind_0+width].values[np.newaxis,])\n",
    "\n",
    "prediction = prediction[0,:,1]\n",
    "\n",
    "plt.scatter(time[ind_0:ind_0+3*width],df[ind_0:ind_0+3*width]['speed'].values,label='observed')\n",
    "\n",
    "plt.scatter(time[ind_0+width:ind_0+2*width],prediction,label='prediction')\n",
    "\n",
    "plt.grid()\n",
    "start = time.loc[ind_0]\n",
    "end = time.loc[ind_0+3*width]\n",
    "dates = pd.date_range(start=start,end=end,freq=ticks)\n",
    "plt.xticks(ticks = dates,labels = dates,rotation=45,ha='right',size=10)\n",
    "plt.legend()\n",
    "plt.ylim(-2.5,1.5)"
   ]
  },
  {
   "cell_type": "code",
   "execution_count": 27,
   "metadata": {},
   "outputs": [
    {
     "name": "stdout",
     "output_type": "stream",
     "text": [
      "INFO:tensorflow:Assets written to: weather_morning/assets\n"
     ]
    }
   ],
   "source": [
    " multi_lstm_model.save(f'weather_{ampm}')"
   ]
  }
 ],
 "metadata": {
  "kernelspec": {
   "display_name": "Python 3",
   "language": "python",
   "name": "python3"
  },
  "language_info": {
   "codemirror_mode": {
    "name": "ipython",
    "version": 3
   },
   "file_extension": ".py",
   "mimetype": "text/x-python",
   "name": "python",
   "nbconvert_exporter": "python",
   "pygments_lexer": "ipython3",
   "version": "3.8.3"
  }
 },
 "nbformat": 4,
 "nbformat_minor": 4
}

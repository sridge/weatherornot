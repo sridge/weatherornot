{
 "cells": [
  {
   "cell_type": "code",
   "execution_count": 1,
   "metadata": {},
   "outputs": [],
   "source": [
    "import datetime\n",
    "import glob\n",
    "import os\n",
    "\n",
    "import matplotlib.pyplot as plt \n",
    "import numpy as np\n",
    "import pandas as pd\n",
    "import scipy.stats as stats\n",
    "import tensorflow as tf\n",
    "from tqdm import tqdm\n",
    "\n",
    "import utils"
   ]
  },
  {
   "cell_type": "code",
   "execution_count": 2,
   "metadata": {},
   "outputs": [
    {
     "data": {
      "text/html": [
       "<div>\n",
       "<style scoped>\n",
       "    .dataframe tbody tr th:only-of-type {\n",
       "        vertical-align: middle;\n",
       "    }\n",
       "\n",
       "    .dataframe tbody tr th {\n",
       "        vertical-align: top;\n",
       "    }\n",
       "\n",
       "    .dataframe thead th {\n",
       "        text-align: right;\n",
       "    }\n",
       "</style>\n",
       "<table border=\"1\" class=\"dataframe\">\n",
       "  <thead>\n",
       "    <tr style=\"text-align: right;\">\n",
       "      <th></th>\n",
       "      <th>speed</th>\n",
       "      <th>hour</th>\n",
       "      <th>speed_diff</th>\n",
       "    </tr>\n",
       "  </thead>\n",
       "  <tbody>\n",
       "    <tr>\n",
       "      <th>0</th>\n",
       "      <td>1.665056</td>\n",
       "      <td>0.512212</td>\n",
       "      <td>0.05817</td>\n",
       "    </tr>\n",
       "    <tr>\n",
       "      <th>1</th>\n",
       "      <td>1.671025</td>\n",
       "      <td>0.611799</td>\n",
       "      <td>0.17636</td>\n",
       "    </tr>\n",
       "    <tr>\n",
       "      <th>2</th>\n",
       "      <td>1.676994</td>\n",
       "      <td>0.698988</td>\n",
       "      <td>0.17636</td>\n",
       "    </tr>\n",
       "    <tr>\n",
       "      <th>3</th>\n",
       "      <td>1.682963</td>\n",
       "      <td>0.773405</td>\n",
       "      <td>0.17636</td>\n",
       "    </tr>\n",
       "    <tr>\n",
       "      <th>4</th>\n",
       "      <td>1.688933</td>\n",
       "      <td>0.834731</td>\n",
       "      <td>0.17636</td>\n",
       "    </tr>\n",
       "  </tbody>\n",
       "</table>\n",
       "</div>"
      ],
      "text/plain": [
       "      speed      hour  speed_diff\n",
       "0  1.665056  0.512212     0.05817\n",
       "1  1.671025  0.611799     0.17636\n",
       "2  1.676994  0.698988     0.17636\n",
       "3  1.682963  0.773405     0.17636\n",
       "4  1.688933  0.834731     0.17636"
      ]
     },
     "execution_count": 2,
     "metadata": {},
     "output_type": "execute_result"
    }
   ],
   "source": [
    "chour_dict = {'morning':'04',\n",
    "              'afternoon':'12',\n",
    "             }\n",
    "\n",
    "ampm = 'morning'\n",
    "\n",
    "critical_hour = chour_dict[ampm]\n",
    "\n",
    "\n",
    "df = pd.read_csv(f'merged_df_{ampm}.csv',parse_dates=['time'])\n",
    "time = df['time']\n",
    "df = df.drop(['time','tmpf','tmpf_pred','lt_32','p01i','p01i_pred'],axis=1)\n",
    "df = df.interpolate('linear')\n",
    "df.head()"
   ]
  },
  {
   "cell_type": "code",
   "execution_count": 3,
   "metadata": {},
   "outputs": [],
   "source": [
    "(train_df,val_df,test_df), num_features = utils.train_test_val_split(df)"
   ]
  },
  {
   "cell_type": "code",
   "execution_count": 4,
   "metadata": {},
   "outputs": [],
   "source": [
    "input_width = 8\n",
    "label_width = 8\n",
    "shift = label_width "
   ]
  },
  {
   "cell_type": "code",
   "execution_count": 5,
   "metadata": {},
   "outputs": [
    {
     "data": {
      "text/plain": [
       "Total window size: 16\n",
       "Input indices: [0 1 2 3 4 5 6 7]\n",
       "Label indices: [ 8  9 10 11 12 13 14 15]\n",
       "Label column name(s): ['speed']"
      ]
     },
     "execution_count": 5,
     "metadata": {},
     "output_type": "execute_result"
    }
   ],
   "source": [
    "w1 = utils.WindowGenerator(input_width, label_width, shift,train_df, val_df, test_df, label_columns=['speed'])\n",
    "w1"
   ]
  },
  {
   "cell_type": "code",
   "execution_count": 6,
   "metadata": {},
   "outputs": [
    {
     "name": "stdout",
     "output_type": "stream",
     "text": [
      "All shapes are: (batch, time, features)\n",
      "Window shape: (3, 16, 3)\n",
      "Inputs shape: (3, 8, 3)\n",
      "labels shape: (3, 8, 1)\n"
     ]
    }
   ],
   "source": [
    "example_window = tf.stack([np.array(train_df[:w1.total_window_size]),\n",
    "                           np.array(train_df[100:100+w1.total_window_size]),\n",
    "                           np.array(train_df[200:200+w1.total_window_size])])\n",
    "\n",
    "\n",
    "example_inputs, example_labels = w1.split_window(example_window)\n",
    "\n",
    "print('All shapes are: (batch, time, features)')\n",
    "print(f'Window shape: {example_window.shape}')\n",
    "print(f'Inputs shape: {example_inputs.shape}')\n",
    "print(f'labels shape: {example_labels.shape}')"
   ]
  },
  {
   "cell_type": "code",
   "execution_count": 7,
   "metadata": {},
   "outputs": [],
   "source": [
    "w1.make_dataset(w1.train_df)\n",
    "\n",
    "test_case = w1.train_df.copy()"
   ]
  },
  {
   "cell_type": "code",
   "execution_count": 8,
   "metadata": {},
   "outputs": [
    {
     "name": "stdout",
     "output_type": "stream",
     "text": [
      "Inputs shape (batch, time, features): (32, 8, 3)\n",
      "Labels shape (batch, time, features): (32, 8, 1)\n"
     ]
    }
   ],
   "source": [
    "for example_inputs, example_labels in w1.train.take(1):\n",
    "    print(f'Inputs shape (batch, time, features): {example_inputs.shape}')\n",
    "    print(f'Labels shape (batch, time, features): {example_labels.shape}')"
   ]
  },
  {
   "cell_type": "code",
   "execution_count": 9,
   "metadata": {},
   "outputs": [],
   "source": [
    "linear = tf.keras.Sequential([\n",
    "    tf.keras.layers.Dense(units=1)\n",
    "])"
   ]
  },
  {
   "cell_type": "code",
   "execution_count": 10,
   "metadata": {},
   "outputs": [
    {
     "name": "stdout",
     "output_type": "stream",
     "text": [
      "Input shape: (32, 8, 3)\n",
      "Output shape: (32, 8, 1)\n"
     ]
    }
   ],
   "source": [
    "print('Input shape:', w1.example[0].shape)\n",
    "print('Output shape:', linear(w1.example[0]).shape)"
   ]
  },
  {
   "cell_type": "code",
   "execution_count": 11,
   "metadata": {},
   "outputs": [],
   "source": [
    "val_performance = {}\n",
    "performance = {}"
   ]
  },
  {
   "cell_type": "code",
   "execution_count": 12,
   "metadata": {},
   "outputs": [
    {
     "name": "stdout",
     "output_type": "stream",
     "text": [
      "Epoch 1/20\n",
      "546/546 [==============================] - 2s 4ms/step - loss: 2.2441 - mean_absolute_error: 1.1662 - val_loss: 0.9154 - val_mean_absolute_error: 0.7681\n",
      "Epoch 2/20\n",
      "546/546 [==============================] - 3s 5ms/step - loss: 0.9346 - mean_absolute_error: 0.7536 - val_loss: 0.4534 - val_mean_absolute_error: 0.5506\n",
      "Epoch 3/20\n",
      "546/546 [==============================] - 3s 5ms/step - loss: 0.5748 - mean_absolute_error: 0.6059 - val_loss: 0.3633 - val_mean_absolute_error: 0.5008\n",
      "Epoch 4/20\n",
      "546/546 [==============================] - 2s 5ms/step - loss: 0.5043 - mean_absolute_error: 0.5723 - val_loss: 0.3549 - val_mean_absolute_error: 0.4960\n",
      "Epoch 5/20\n",
      "546/546 [==============================] - 4s 8ms/step - loss: 0.4951 - mean_absolute_error: 0.5667 - val_loss: 0.3554 - val_mean_absolute_error: 0.4956\n",
      "156/156 [==============================] - 2s 14ms/step - loss: 0.3554 - mean_absolute_error: 0.4956\n"
     ]
    }
   ],
   "source": [
    "history = utils.compile_and_fit(linear, w1)\n",
    "\n",
    "val_performance['Linear'] = linear.evaluate(w1.val)\n",
    "performance['Linear'] = linear.evaluate(w1.test, verbose=0)"
   ]
  },
  {
   "cell_type": "code",
   "execution_count": 13,
   "metadata": {},
   "outputs": [
    {
     "data": {
      "text/plain": [
       "[0.4353528618812561, 0.5386165380477905]"
      ]
     },
     "execution_count": 13,
     "metadata": {},
     "output_type": "execute_result"
    }
   ],
   "source": [
    "performance['Linear']"
   ]
  },
  {
   "cell_type": "code",
   "execution_count": 14,
   "metadata": {},
   "outputs": [
    {
     "name": "stdout",
     "output_type": "stream",
     "text": [
      "WARNING:tensorflow:Model was constructed with shape (None, 8, 3) for input Tensor(\"dense_input_1:0\", shape=(None, 8, 3), dtype=float32), but it was called on an input with incompatible shape (None, 3).\n"
     ]
    },
    {
     "data": {
      "text/plain": [
       "<matplotlib.collections.PathCollection at 0x7fa446ea6a00>"
      ]
     },
     "execution_count": 14,
     "metadata": {},
     "output_type": "execute_result"
    },
    {
     "data": {
      "image/png": "[encoded data removed]",
      "text/plain": [
       "<Figure size 432x288 with 1 Axes>"
      ]
     },
     "metadata": {
      "needs_background": "light"
     },
     "output_type": "display_data"
    }
   ],
   "source": [
    "# plt.plot()\n",
    "ind_0 = np.random.randint(0,len(df)-1)\n",
    "width = 8\n",
    "\n",
    "prediction = linear.predict(df[ind_0:ind_0+width])\n",
    "\n",
    "plt.scatter(time[ind_0:ind_0+2*width],df[ind_0:ind_0+2*width]['speed'].values)\n",
    "\n",
    "plt.scatter(time[ind_0+width:ind_0+2*width],prediction)"
   ]
  },
  {
   "cell_type": "code",
   "execution_count": 15,
   "metadata": {},
   "outputs": [
    {
     "data": {
      "image/png": "[encoded data removed]",
      "text/plain": [
       "<Figure size 432x288 with 1 Axes>"
      ]
     },
     "metadata": {
      "needs_background": "light"
     },
     "output_type": "display_data"
    }
   ],
   "source": [
    "plt.bar(x = range(len(train_df.columns)),\n",
    "        height=linear.layers[0].kernel[:,0].numpy())\n",
    "axis = plt.gca()\n",
    "axis.set_xticks(range(len(train_df.columns)))\n",
    "_ = axis.set_xticklabels(train_df.columns, rotation=90)"
   ]
  },
  {
   "cell_type": "code",
   "execution_count": 16,
   "metadata": {},
   "outputs": [
    {
     "name": "stdout",
     "output_type": "stream",
     "text": [
      "Epoch 1/20\n",
      "546/546 [==============================] - 4s 8ms/step - loss: 0.4509 - mean_absolute_error: 0.5294 - val_loss: 0.3334 - val_mean_absolute_error: 0.4669\n",
      "Epoch 2/20\n",
      "546/546 [==============================] - 3s 5ms/step - loss: 0.3730 - mean_absolute_error: 0.4679 - val_loss: 0.2625 - val_mean_absolute_error: 0.3926\n",
      "Epoch 3/20\n",
      "546/546 [==============================] - 5s 9ms/step - loss: 0.3388 - mean_absolute_error: 0.4350 - val_loss: 0.2460 - val_mean_absolute_error: 0.3799\n",
      "Epoch 4/20\n",
      "546/546 [==============================] - 3s 5ms/step - loss: 0.3269 - mean_absolute_error: 0.4245 - val_loss: 0.2447 - val_mean_absolute_error: 0.3745\n",
      "Epoch 5/20\n",
      "546/546 [==============================] - 4s 8ms/step - loss: 0.3208 - mean_absolute_error: 0.4186 - val_loss: 0.2427 - val_mean_absolute_error: 0.3753\n",
      "Epoch 6/20\n",
      "546/546 [==============================] - 3s 5ms/step - loss: 0.3178 - mean_absolute_error: 0.4156 - val_loss: 0.2363 - val_mean_absolute_error: 0.3693\n",
      "Epoch 7/20\n",
      "546/546 [==============================] - 3s 5ms/step - loss: 0.3155 - mean_absolute_error: 0.4147 - val_loss: 0.2430 - val_mean_absolute_error: 0.3725\n",
      "156/156 [==============================] - 1s 4ms/step - loss: 0.2430 - mean_absolute_error: 0.3725\n"
     ]
    }
   ],
   "source": [
    "dense = tf.keras.Sequential([\n",
    "    tf.keras.layers.Dense(units=64, activation='relu'),\n",
    "    tf.keras.layers.Dense(units=64, activation='relu'),\n",
    "    tf.keras.layers.Dense(units=1)\n",
    "])\n",
    "\n",
    "history = utils.compile_and_fit(dense, w1)\n",
    "\n",
    "val_performance['Dense'] = dense.evaluate(w1.val)\n",
    "performance['Dense'] = dense.evaluate(w1.test, verbose=0)"
   ]
  },
  {
   "cell_type": "code",
   "execution_count": 17,
   "metadata": {},
   "outputs": [],
   "source": [
    "time_test = time[w1.test_df.index]"
   ]
  },
  {
   "cell_type": "code",
   "execution_count": 18,
   "metadata": {},
   "outputs": [
    {
     "name": "stdout",
     "output_type": "stream",
     "text": [
      "WARNING:tensorflow:Model was constructed with shape (None, 8, 3) for input Tensor(\"dense_1_input:0\", shape=(None, 8, 3), dtype=float32), but it was called on an input with incompatible shape (None, 3).\n"
     ]
    },
    {
     "data": {
      "text/plain": [
       "(-2.5, 1.5)"
      ]
     },
     "execution_count": 18,
     "metadata": {},
     "output_type": "execute_result"
    },
    {
     "data": {
      "image/png": "[encoded data removed]",
      "text/plain": [
       "<Figure size 432x288 with 1 Axes>"
      ]
     },
     "metadata": {
      "needs_background": "light"
     },
     "output_type": "display_data"
    }
   ],
   "source": [
    "forecast_starts = pd.date_range(f'2015-01-01 {critical_hour}',f'2019-12-31 {critical_hour}',freq='24h')\n",
    "valid_inds = time_test[time_test.isin(forecast_starts)].index\n",
    "rand_ind = np.random.randint(0,len(valid_inds)-1)\n",
    "ind_0 = valid_inds[rand_ind]\n",
    "\n",
    "width = 8\n",
    "ticks = '1H'\n",
    "\n",
    "prediction = dense.predict(df[ind_0:ind_0+width])\n",
    "\n",
    "plt.scatter(time[ind_0:ind_0+3*width],df[ind_0:ind_0+3*width]['speed'].values,label='observed')\n",
    "\n",
    "plt.scatter(time[ind_0+width:ind_0+2*width],prediction,label='prediction')\n",
    "\n",
    "plt.grid()\n",
    "start = time.loc[ind_0]\n",
    "end = time.loc[ind_0+3*width]\n",
    "dates = pd.date_range(start=start,end=end,freq=ticks)\n",
    "plt.xticks(ticks = dates,labels = dates,rotation=45,ha='right',size=10)\n",
    "plt.legend()\n",
    "plt.ylim(-2.5,1.5)"
   ]
  },
  {
   "cell_type": "code",
   "execution_count": 19,
   "metadata": {},
   "outputs": [
    {
     "name": "stdout",
     "output_type": "stream",
     "text": [
      "Epoch 1/20\n",
      "546/546 [==============================] - 7s 13ms/step - loss: 0.3404 - mean_absolute_error: 0.4362 - val_loss: 0.2041 - val_mean_absolute_error: 0.3340\n",
      "Epoch 2/20\n",
      "546/546 [==============================] - 5s 8ms/step - loss: 0.2110 - mean_absolute_error: 0.3382 - val_loss: 0.1781 - val_mean_absolute_error: 0.3117\n",
      "Epoch 3/20\n",
      "546/546 [==============================] - 5s 10ms/step - loss: 0.1921 - mean_absolute_error: 0.3208 - val_loss: 0.1658 - val_mean_absolute_error: 0.3006\n",
      "Epoch 4/20\n",
      "546/546 [==============================] - 5s 10ms/step - loss: 0.1811 - mean_absolute_error: 0.3105 - val_loss: 0.1541 - val_mean_absolute_error: 0.2881\n",
      "Epoch 5/20\n",
      "546/546 [==============================] - 5s 10ms/step - loss: 0.1729 - mean_absolute_error: 0.3020 - val_loss: 0.1491 - val_mean_absolute_error: 0.2799\n",
      "Epoch 6/20\n",
      "546/546 [==============================] - 5s 9ms/step - loss: 0.1666 - mean_absolute_error: 0.2958 - val_loss: 0.1414 - val_mean_absolute_error: 0.2739\n",
      "Epoch 7/20\n",
      "546/546 [==============================] - 6s 11ms/step - loss: 0.1640 - mean_absolute_error: 0.2927 - val_loss: 0.1395 - val_mean_absolute_error: 0.2709\n",
      "Epoch 8/20\n",
      "546/546 [==============================] - 7s 12ms/step - loss: 0.1612 - mean_absolute_error: 0.2900 - val_loss: 0.1398 - val_mean_absolute_error: 0.2704\n",
      "156/156 [==============================] - 1s 6ms/step - loss: 0.1398 - mean_absolute_error: 0.2704\n"
     ]
    }
   ],
   "source": [
    "multi_lstm_model = tf.keras.Sequential([\n",
    "    # Shape [batch, time, features] => [batch, lstm_units]\n",
    "    # Adding more `lstm_units` just overfits more quickly.\n",
    "    tf.keras.layers.LSTM(32, return_sequences=False),\n",
    "    # Shape => [batch, out_steps*features]\n",
    "    tf.keras.layers.Dense(label_width*num_features,\n",
    "                          kernel_initializer=tf.keras.initializers.glorot_normal(),\n",
    "                          bias_initializer=tf.keras.initializers.zeros()),\n",
    "    # Shape => [batch, out_steps, features]\n",
    "    tf.keras.layers.Reshape([label_width, num_features])\n",
    "])\n",
    "\n",
    "history = utils.compile_and_fit(multi_lstm_model, w1)\n",
    "\n",
    "val_performance['LSTM'] = multi_lstm_model.evaluate(w1.val)\n",
    "performance['LSTM'] = multi_lstm_model.evaluate(w1.test, verbose=0)"
   ]
  },
  {
   "cell_type": "code",
   "execution_count": 25,
   "metadata": {},
   "outputs": [
    {
     "data": {
      "text/plain": [
       "(-2.5, 1.5)"
      ]
     },
     "execution_count": 25,
     "metadata": {},
     "output_type": "execute_result"
    },
    {
     "data": {
      "image/png": "[encoded data removed]",
      "text/plain": [
       "<Figure size 432x288 with 1 Axes>"
      ]
     },
     "metadata": {
      "needs_background": "light"
     },
     "output_type": "display_data"
    }
   ],
   "source": [
    "rand_ind = np.random.randint(0,len(valid_inds)-1)\n",
    "ind_0 = valid_inds[rand_ind]\n",
    "\n",
    "width = 8\n",
    "ticks = '1H'\n",
    "\n",
    "prediction = multi_lstm_model.predict(df[ind_0:ind_0+width].values[np.newaxis,])\n",
    "\n",
    "prediction = prediction[0,:,1]\n",
    "\n",
    "plt.scatter(time[ind_0:ind_0+3*width],df[ind_0:ind_0+3*width]['speed'].values,label='observed')\n",
    "\n",
    "plt.scatter(time[ind_0+width:ind_0+2*width],prediction,label='prediction')\n",
    "\n",
    "plt.grid()\n",
    "start = time.loc[ind_0]\n",
    "end = time.loc[ind_0+3*width]\n",
    "dates = pd.date_range(start=start,end=end,freq=ticks)\n",
    "plt.xticks(ticks = dates,labels = dates,rotation=45,ha='right',size=10)\n",
    "plt.legend()\n",
    "plt.ylim(-2.5,1.5)"
   ]
  },
  {
   "cell_type": "code",
   "execution_count": 21,
   "metadata": {},
   "outputs": [
    {
     "name": "stdout",
     "output_type": "stream",
     "text": [
      "WARNING:tensorflow:From /home/smr1020/anaconda3/lib/python3.8/site-packages/tensorflow/python/training/tracking/tracking.py:111: Model.state_updates (from tensorflow.python.keras.engine.training) is deprecated and will be removed in a future version.\n",
      "Instructions for updating:\n",
      "This property should not be used in TensorFlow 2.0, as updates are applied automatically.\n",
      "WARNING:tensorflow:From /home/smr1020/anaconda3/lib/python3.8/site-packages/tensorflow/python/training/tracking/tracking.py:111: Layer.updates (from tensorflow.python.keras.engine.base_layer) is deprecated and will be removed in a future version.\n",
      "Instructions for updating:\n",
      "This property should not be used in TensorFlow 2.0, as updates are applied automatically.\n",
      "INFO:tensorflow:Assets written to: no_weather_morning/assets\n"
     ]
    }
   ],
   "source": [
    "multi_lstm_model.save(f'no_weather_{ampm}')"
   ]
  }
 ],
 "metadata": {
  "kernelspec": {
   "display_name": "Python 3",
   "language": "python",
   "name": "python3"
  },
  "language_info": {
   "codemirror_mode": {
    "name": "ipython",
    "version": 3
   },
   "file_extension": ".py",
   "mimetype": "text/x-python",
   "name": "python",
   "nbconvert_exporter": "python",
   "pygments_lexer": "ipython3",
   "version": "3.8.3"
  }
 },
 "nbformat": 4,
 "nbformat_minor": 4
}

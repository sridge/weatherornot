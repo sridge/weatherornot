{
 "cells": [
  {
   "cell_type": "code",
   "execution_count": 1,
   "metadata": {},
   "outputs": [],
   "source": [
    "import datetime\n",
    "import glob\n",
    "import os\n",
    "\n",
    "import matplotlib.pyplot as plt \n",
    "import numpy as np\n",
    "import pandas as pd\n",
    "import scipy.stats as stats\n",
    "import tensorflow as tf\n",
    "from tqdm import tqdm\n",
    "\n",
    "import utils"
   ]
  },
  {
   "cell_type": "code",
   "execution_count": 19,
   "metadata": {},
   "outputs": [],
   "source": [
    "chour_dict = {'morning':'0400',\n",
    "              'afternoon':'1200',\n",
    "             }\n",
    "\n",
    "ampm = 'morning'\n",
    "\n",
    "width = 8\n",
    "\n",
    "critical_hour = chour_dict[ampm]\n",
    "\n",
    "df = pd.read_csv(f'merged_df_{ampm}.csv',parse_dates=['time'])\n",
    "time = df['time']\n",
    "df = df.drop(['time','tmpf','tmpf_pred'],axis=1)"
   ]
  },
  {
   "cell_type": "code",
   "execution_count": 20,
   "metadata": {},
   "outputs": [],
   "source": [
    "(train_df,val_df,test_df), num_features = utils.train_test_val_split(df)"
   ]
  },
  {
   "cell_type": "code",
   "execution_count": 21,
   "metadata": {},
   "outputs": [],
   "source": [
    "day_list = []\n",
    "for group in df.groupby(time.dt.date):\n",
    "    if ((group[1]['lt_32']>1) & (group[1]['p01i']>0)).any():\n",
    "        day_list.append(group[1])"
   ]
  },
  {
   "cell_type": "code",
   "execution_count": 22,
   "metadata": {},
   "outputs": [
    {
     "data": {
      "text/plain": [
       "16"
      ]
     },
     "execution_count": 22,
     "metadata": {},
     "output_type": "execute_result"
    }
   ],
   "source": [
    "len(day_list)"
   ]
  },
  {
   "cell_type": "code",
   "execution_count": 23,
   "metadata": {},
   "outputs": [],
   "source": [
    "lstm_no = tf.keras.models.load_model(f'no_weather_{ampm}')\n",
    "lstm_wx = tf.keras.models.load_model(f'weather_{ampm}')"
   ]
  },
  {
   "cell_type": "code",
   "execution_count": 24,
   "metadata": {},
   "outputs": [],
   "source": [
    "mn = pd.read_csv('mean.csv')\n",
    "mn = mn.set_index('Unnamed: 0').T\n",
    "std = pd.read_csv('std.csv')\n",
    "std = std.set_index('Unnamed: 0').T"
   ]
  },
  {
   "cell_type": "code",
   "execution_count": 103,
   "metadata": {},
   "outputs": [
    {
     "data": {
      "text/plain": [
       "0.4641588833612779"
      ]
     },
     "execution_count": 103,
     "metadata": {},
     "output_type": "execute_result"
    }
   ],
   "source": [
    "precip_thresh = 0.125\n",
    "precip_thresh = precip_thresh**(1/3)\n",
    "precip_thresh"
   ]
  },
  {
   "cell_type": "code",
   "execution_count": 114,
   "metadata": {},
   "outputs": [],
   "source": [
    "tem = val_df[(val_df['p01i']>precip_thresh)]"
   ]
  },
  {
   "cell_type": "code",
   "execution_count": 115,
   "metadata": {},
   "outputs": [],
   "source": [
    "time_test = time[tem.index]"
   ]
  },
  {
   "cell_type": "code",
   "execution_count": 116,
   "metadata": {},
   "outputs": [],
   "source": [
    "forecast_starts = pd.date_range(f'2015-01-01 {critical_hour}',f'2019-12-31 {critical_hour}',freq='24h')\n",
    "# valid_inds = time_test[time_test.isin(forecast_starts)].index\n",
    "valid_inds = time_test[(time_test.dt.hour<10) & (time_test.dt.hour>4)].index"
   ]
  },
  {
   "cell_type": "code",
   "execution_count": 117,
   "metadata": {},
   "outputs": [],
   "source": [
    "def no_norm(value,name,ampm):\n",
    "    mn = pd.read_csv(f'mean_{ampm}.csv',index_col=0)\n",
    "    mn = mn.T\n",
    "    std = pd.read_csv(f'std_{ampm}.csv',index_col=0)\n",
    "    std = std.T\n",
    "    return (value*std)[name].values[0]"
   ]
  },
  {
   "cell_type": "code",
   "execution_count": 118,
   "metadata": {},
   "outputs": [
    {
     "name": "stdout",
     "output_type": "stream",
     "text": [
      "2.0861040033589773\n"
     ]
    }
   ],
   "source": [
    "rmse = np.ones(len(valid_inds))\n",
    "val = np.ones((len(valid_inds),8))*np.nan\n",
    "pred = np.ones((len(valid_inds),8))*np.nan\n",
    "\n",
    "\n",
    "for ind_val,ind in enumerate(valid_inds):\n",
    "        pred_i = lstm_wx.predict(df[ind:ind+width].values[np.newaxis,])\n",
    "        pred_i = pred_i[0,:,1]\n",
    "        val_i = df[ind+width:ind+2*width]['speed']\n",
    "        if len(val_i) > 7:\n",
    "            rmse[ind_val] = np.sqrt(((val_i.values-pred_i.T)**2).mean())\n",
    "\n",
    "print(no_norm(rmse.mean(),'speed',mn,std))"
   ]
  },
  {
   "cell_type": "code",
   "execution_count": 119,
   "metadata": {},
   "outputs": [],
   "source": [
    "df_no = df.drop(['lt_32','p01i','p01i_pred'],axis=1)"
   ]
  },
  {
   "cell_type": "code",
   "execution_count": 120,
   "metadata": {},
   "outputs": [],
   "source": [
    "def no_norm(value,name,mn,std):\n",
    "    return (value*std)[name].values[0]"
   ]
  },
  {
   "cell_type": "code",
   "execution_count": 121,
   "metadata": {},
   "outputs": [
    {
     "name": "stdout",
     "output_type": "stream",
     "text": [
      "2.402131362355975\n"
     ]
    }
   ],
   "source": [
    "rmse = np.ones(len(valid_inds))\n",
    "val = np.ones((len(valid_inds),8))*np.nan\n",
    "pred = np.ones((len(valid_inds),8))*np.nan\n",
    "\n",
    "for ind_val,ind in enumerate(valid_inds):\n",
    "        pred_i = lstm_no.predict(df_no[ind:ind+width].values[np.newaxis,])\n",
    "        pred_i = pred_i[0,:,1]\n",
    "        val_i = df_no[ind+width:ind+2*width]['speed']\n",
    "        if len(val_i) > 7:\n",
    "            rmse[ind_val] = np.sqrt(((val_i.values-pred_i.T)**2).mean())\n",
    "    \n",
    "print(no_norm(rmse.mean(),'speed',mn,std))"
   ]
  }
 ],
 "metadata": {
  "kernelspec": {
   "display_name": "Python 3",
   "language": "python",
   "name": "python3"
  },
  "language_info": {
   "codemirror_mode": {
    "name": "ipython",
    "version": 3
   },
   "file_extension": ".py",
   "mimetype": "text/x-python",
   "name": "python",
   "nbconvert_exporter": "python",
   "pygments_lexer": "ipython3",
   "version": "3.8.3"
  }
 },
 "nbformat": 4,
 "nbformat_minor": 4
}
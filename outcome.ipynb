{
 "cells": [
  {
   "cell_type": "code",
   "execution_count": 1,
   "metadata": {},
   "outputs": [],
   "source": [
    "import datetime\n",
    "import glob\n",
    "import os\n",
    "\n",
    "import matplotlib.pyplot as plt \n",
    "import numpy as np\n",
    "import pandas as pd\n",
    "import scipy.stats as stats\n",
    "import tensorflow as tf\n",
    "from tqdm import tqdm\n",
    "\n",
    "import utils"
   ]
  },
  {
   "cell_type": "code",
   "execution_count": 2,
   "metadata": {},
   "outputs": [],
   "source": [
    "df = pd.read_csv('merged_df_norm.csv',parse_dates=['time'])\n",
    "df = df.set_index('time')"
   ]
  },
  {
   "cell_type": "code",
   "execution_count": 3,
   "metadata": {},
   "outputs": [],
   "source": [
    "(train_df,val_df,test_df), num_features = utils.train_test_val_split(df)"
   ]
  },
  {
   "cell_type": "code",
   "execution_count": 4,
   "metadata": {},
   "outputs": [],
   "source": [
    "day_list = []\n",
    "for group in df.groupby(df.index.date):\n",
    "    if (group[1]['weekday'].astype(int).values[0]==1) & (group[1]['tp'][group[1]['sf']>0].any()):\n",
    "        day_list.append(group[1])"
   ]
  },
  {
   "cell_type": "code",
   "execution_count": 5,
   "metadata": {},
   "outputs": [],
   "source": [
    "dense_no = tf.keras.models.load_model('no_weather')\n",
    "dense_wx = tf.keras.models.load_model('weather')"
   ]
  },
  {
   "cell_type": "code",
   "execution_count": 6,
   "metadata": {},
   "outputs": [
    {
     "name": "stdout",
     "output_type": "stream",
     "text": [
      "WARNING:tensorflow:Model was constructed with shape (None, 72, 3) for input Tensor(\"dense_1_input:0\", shape=(None, 72, 3), dtype=float32), but it was called on an input with incompatible shape (None, 3).\n",
      "0.9201060166323017\n"
     ]
    }
   ],
   "source": [
    "tem = np.ones(len(day_list))\n",
    "\n",
    "width = 72\n",
    "for ind,day in enumerate(day_list):\n",
    "    day = day.drop(['sf', 'tp', 'tp_acc', 'sf_acc',],axis=1)\n",
    "    if len(day)>240:\n",
    "        pred = dense_no.predict(day[14*12:14*12+width])\n",
    "        val = day[14*12:14*12+width]\n",
    "        tem[ind] = np.sqrt(((val['speed'].values-pred.T)**2).mean())\n",
    "    \n",
    "print(tem.mean())"
   ]
  },
  {
   "cell_type": "code",
   "execution_count": 7,
   "metadata": {},
   "outputs": [
    {
     "name": "stdout",
     "output_type": "stream",
     "text": [
      "WARNING:tensorflow:Model was constructed with shape (None, 72, 7) for input Tensor(\"dense_1_input_1:0\", shape=(None, 72, 7), dtype=float32), but it was called on an input with incompatible shape (None, 7).\n",
      "0.9353755228568565\n"
     ]
    }
   ],
   "source": [
    "tem = np.ones(len(day_list))\n",
    "\n",
    "width = 72\n",
    "for ind,day in enumerate(day_list):\n",
    "    if len(day)>240:\n",
    "        pred = dense_wx.predict(day[14*12:14*12+width])\n",
    "        val = day[14*12:14*12+width]\n",
    "        tem[ind] = np.sqrt(((val['speed'].values-pred.T)**2).mean())\n",
    "    \n",
    "print(tem.mean())"
   ]
  },
  {
   "cell_type": "code",
   "execution_count": 8,
   "metadata": {},
   "outputs": [
    {
     "ename": "NameError",
     "evalue": "name 'dense' is not defined",
     "output_type": "error",
     "traceback": [
      "\u001b[0;31m---------------------------------------------------------------------------\u001b[0m",
      "\u001b[0;31mNameError\u001b[0m                                 Traceback (most recent call last)",
      "\u001b[0;32m<ipython-input-8-905328918d5a>\u001b[0m in \u001b[0;36m<module>\u001b[0;34m\u001b[0m\n\u001b[1;32m      3\u001b[0m \u001b[0mticks\u001b[0m \u001b[0;34m=\u001b[0m \u001b[0;34m'1H'\u001b[0m\u001b[0;34m\u001b[0m\u001b[0;34m\u001b[0m\u001b[0m\n\u001b[1;32m      4\u001b[0m \u001b[0;34m\u001b[0m\u001b[0m\n\u001b[0;32m----> 5\u001b[0;31m \u001b[0mprediction\u001b[0m \u001b[0;34m=\u001b[0m \u001b[0mdense\u001b[0m\u001b[0;34m.\u001b[0m\u001b[0mpredict\u001b[0m\u001b[0;34m(\u001b[0m\u001b[0mdf\u001b[0m\u001b[0;34m[\u001b[0m\u001b[0mind_0\u001b[0m\u001b[0;34m:\u001b[0m\u001b[0mind_0\u001b[0m\u001b[0;34m+\u001b[0m\u001b[0mwidth\u001b[0m\u001b[0;34m]\u001b[0m\u001b[0;34m)\u001b[0m\u001b[0;34m\u001b[0m\u001b[0;34m\u001b[0m\u001b[0m\n\u001b[0m\u001b[1;32m      6\u001b[0m \u001b[0;34m\u001b[0m\u001b[0m\n\u001b[1;32m      7\u001b[0m \u001b[0mplt\u001b[0m\u001b[0;34m.\u001b[0m\u001b[0mscatter\u001b[0m\u001b[0;34m(\u001b[0m\u001b[0mtime\u001b[0m\u001b[0;34m[\u001b[0m\u001b[0mind_0\u001b[0m\u001b[0;34m:\u001b[0m\u001b[0mind_0\u001b[0m\u001b[0;34m+\u001b[0m\u001b[0;36m3\u001b[0m\u001b[0;34m*\u001b[0m\u001b[0mwidth\u001b[0m\u001b[0;34m]\u001b[0m\u001b[0;34m,\u001b[0m\u001b[0mdf\u001b[0m\u001b[0;34m[\u001b[0m\u001b[0mind_0\u001b[0m\u001b[0;34m:\u001b[0m\u001b[0mind_0\u001b[0m\u001b[0;34m+\u001b[0m\u001b[0;36m3\u001b[0m\u001b[0;34m*\u001b[0m\u001b[0mwidth\u001b[0m\u001b[0;34m]\u001b[0m\u001b[0;34m[\u001b[0m\u001b[0;34m'speed'\u001b[0m\u001b[0;34m]\u001b[0m\u001b[0;34m.\u001b[0m\u001b[0mvalues\u001b[0m\u001b[0;34m,\u001b[0m\u001b[0mlabel\u001b[0m\u001b[0;34m=\u001b[0m\u001b[0;34m'observed'\u001b[0m\u001b[0;34m)\u001b[0m\u001b[0;34m\u001b[0m\u001b[0;34m\u001b[0m\u001b[0m\n",
      "\u001b[0;31mNameError\u001b[0m: name 'dense' is not defined"
     ]
    }
   ],
   "source": [
    "ind_0 = np.random.randint(0,len(df)-1)\n",
    "width = 72\n",
    "ticks = '1H'\n",
    "\n",
    "prediction = dense.predict(df[ind_0:ind_0+width])\n",
    "\n",
    "plt.scatter(time[ind_0:ind_0+3*width],df[ind_0:ind_0+3*width]['speed'].values,label='observed')\n",
    "\n",
    "plt.scatter(time[ind_0+width:ind_0+2*width],prediction,label='prediction')\n",
    "\n",
    "plt.grid()\n",
    "start = time.loc[ind_0]\n",
    "end = time.loc[ind_0+3*width]\n",
    "dates = pd.date_range(start=start,end=end,freq=ticks)\n",
    "plt.xticks(ticks = dates,labels = dates,rotation=45,ha='right',size=10)\n",
    "plt.legend()"
   ]
  }
 ],
 "metadata": {
  "kernelspec": {
   "display_name": "Python 3",
   "language": "python",
   "name": "python3"
  },
  "language_info": {
   "codemirror_mode": {
    "name": "ipython",
    "version": 3
   },
   "file_extension": ".py",
   "mimetype": "text/x-python",
   "name": "python",
   "nbconvert_exporter": "python",
   "pygments_lexer": "ipython3",
   "version": "3.8.3"
  }
 },
 "nbformat": 4,
 "nbformat_minor": 4
}

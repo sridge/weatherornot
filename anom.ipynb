{
 "cells": [
  {
   "cell_type": "code",
   "execution_count": 1,
   "metadata": {},
   "outputs": [],
   "source": [
    "import glob\n",
    "from tqdm import tqdm\n",
    "import numpy as np\n",
    "import pandas as pd\n",
    "import matplotlib.pyplot as plt \n",
    "import scipy.stats as stats\n",
    "import utils\n",
    "import pandas_market_calendars as mcal"
   ]
  },
  {
   "cell_type": "code",
   "execution_count": 2,
   "metadata": {},
   "outputs": [
    {
     "name": "stderr",
     "output_type": "stream",
     "text": [
      "100%|██████████| 5/5 [00:00<00:00, 35.13it/s]\n"
     ]
    }
   ],
   "source": [
    "ampm = 'morning'\n",
    "path = f'{ampm}_df_*.csv'\n",
    "\n",
    "all_files = glob.glob(path)\n",
    "\n",
    "li = []\n",
    "\n",
    "for filename in tqdm(all_files):\n",
    "    df = pd.read_csv(filename, index_col=None, header=0,parse_dates=['time'])\n",
    "    li.append(df)\n",
    "    \n",
    "df = pd.concat(li, axis=0, ignore_index=True)\n",
    "df = df.set_index('time')\n",
    "df = df.sort_index()"
   ]
  },
  {
   "cell_type": "code",
   "execution_count": 3,
   "metadata": {},
   "outputs": [],
   "source": [
    "df = df.drop(['gaps','weekday'],axis=1)"
   ]
  },
  {
   "cell_type": "code",
   "execution_count": 4,
   "metadata": {},
   "outputs": [],
   "source": [
    "nyse = mcal.get_calendar('NYSE')\n",
    "working_days = nyse.valid_days(start_date='2016-01-01', end_date='2019-12-31')"
   ]
  },
  {
   "cell_type": "code",
   "execution_count": 5,
   "metadata": {},
   "outputs": [
    {
     "data": {
      "text/plain": [
       "1209"
      ]
     },
     "execution_count": 5,
     "metadata": {},
     "output_type": "execute_result"
    }
   ],
   "source": [
    "len(df.groupby(df.index.date))"
   ]
  },
  {
   "cell_type": "code",
   "execution_count": 6,
   "metadata": {},
   "outputs": [
    {
     "data": {
      "text/plain": [
       "array([datetime.date(2016, 1, 4), datetime.date(2016, 1, 5),\n",
       "       datetime.date(2016, 1, 6), ..., datetime.date(2019, 12, 27),\n",
       "       datetime.date(2019, 12, 30), datetime.date(2019, 12, 31)],\n",
       "      dtype=object)"
      ]
     },
     "execution_count": 6,
     "metadata": {},
     "output_type": "execute_result"
    }
   ],
   "source": [
    "working_days.date"
   ]
  },
  {
   "cell_type": "code",
   "execution_count": 7,
   "metadata": {},
   "outputs": [
    {
     "data": {
      "text/plain": [
       "0.6261373035566584"
      ]
     },
     "execution_count": 7,
     "metadata": {},
     "output_type": "execute_result"
    }
   ],
   "source": [
    "ngroups  = len(df.groupby(df.index.date))\n",
    "count = 0\n",
    "wd_only = []\n",
    "for group in df.groupby(df.index.date):\n",
    "    if working_days.date[working_days.date == group[0]].any():\n",
    "        wd_only.append(group[1])\n",
    "        count += 1\n",
    "df = pd.concat(wd_only, axis=0, ignore_index=False)\n",
    "count/ngroups"
   ]
  },
  {
   "cell_type": "code",
   "execution_count": 8,
   "metadata": {},
   "outputs": [
    {
     "data": {
      "text/plain": [
       "time\n",
       "2016-01-04 04:00:00    0\n",
       "2016-01-04 04:15:00    0\n",
       "2016-01-04 04:30:00    0\n",
       "2016-01-04 04:45:00    0\n",
       "2016-01-04 05:00:00    0\n",
       "                      ..\n",
       "2019-12-30 11:00:00    0\n",
       "2019-12-30 11:15:00    0\n",
       "2019-12-30 11:30:00    0\n",
       "2019-12-30 11:45:00    0\n",
       "2019-12-30 12:00:00    0\n",
       "Name: tmpf, Length: 24981, dtype: int64"
      ]
     },
     "execution_count": 8,
     "metadata": {},
     "output_type": "execute_result"
    }
   ],
   "source": [
    "(df['tmpf']<32).astype(int)"
   ]
  },
  {
   "cell_type": "code",
   "execution_count": 9,
   "metadata": {},
   "outputs": [],
   "source": [
    "df_norm = df.copy()\n",
    "\n",
    "below_freezing = (df_norm['tmpf']<32).astype(int)\n",
    "df_norm['lt_32'] = below_freezing\n",
    "\n",
    "df_norm['p01i'] = df_norm['p01i']**(1/3)"
   ]
  },
  {
   "cell_type": "code",
   "execution_count": 10,
   "metadata": {},
   "outputs": [],
   "source": [
    "df_norm = (df_norm-df_norm.mean())/df_norm.std()"
   ]
  },
  {
   "cell_type": "code",
   "execution_count": 11,
   "metadata": {},
   "outputs": [],
   "source": [
    "df_norm = df_norm.bfill()\n",
    "df_norm = df_norm.interpolate('linear')\n",
    "\n",
    "df_norm.to_csv(f'merged_df_{ampm}.csv')"
   ]
  },
  {
   "cell_type": "code",
   "execution_count": 12,
   "metadata": {},
   "outputs": [
    {
     "data": {
      "text/plain": [
       "629.25"
      ]
     },
     "execution_count": 12,
     "metadata": {},
     "output_type": "execute_result"
    }
   ],
   "source": [
    "len(df_norm[df_norm['lt_32']>1])/4"
   ]
  },
  {
   "cell_type": "code",
   "execution_count": 13,
   "metadata": {},
   "outputs": [
    {
     "data": {
      "text/html": [
       "<div>\n",
       "<style scoped>\n",
       "    .dataframe tbody tr th:only-of-type {\n",
       "        vertical-align: middle;\n",
       "    }\n",
       "\n",
       "    .dataframe tbody tr th {\n",
       "        vertical-align: top;\n",
       "    }\n",
       "\n",
       "    .dataframe thead th {\n",
       "        text-align: right;\n",
       "    }\n",
       "</style>\n",
       "<table border=\"1\" class=\"dataframe\">\n",
       "  <thead>\n",
       "    <tr style=\"text-align: right;\">\n",
       "      <th></th>\n",
       "      <th>p01i</th>\n",
       "      <th>tmpf</th>\n",
       "      <th>speed</th>\n",
       "      <th>hour</th>\n",
       "      <th>speed_diff</th>\n",
       "      <th>lt_32</th>\n",
       "    </tr>\n",
       "  </thead>\n",
       "  <tbody>\n",
       "    <tr>\n",
       "      <th>p01i</th>\n",
       "      <td>1.000000e+00</td>\n",
       "      <td>1.752784e-01</td>\n",
       "      <td>-2.825913e-01</td>\n",
       "      <td>-4.526835e-02</td>\n",
       "      <td>2.398944e-02</td>\n",
       "      <td>-1.694856e-15</td>\n",
       "    </tr>\n",
       "    <tr>\n",
       "      <th>tmpf</th>\n",
       "      <td>1.752784e-01</td>\n",
       "      <td>1.000000e+00</td>\n",
       "      <td>-1.123862e-01</td>\n",
       "      <td>2.084798e-02</td>\n",
       "      <td>-4.206663e-03</td>\n",
       "      <td>7.105100e-14</td>\n",
       "    </tr>\n",
       "    <tr>\n",
       "      <th>speed</th>\n",
       "      <td>-2.825913e-01</td>\n",
       "      <td>-1.123862e-01</td>\n",
       "      <td>1.000000e+00</td>\n",
       "      <td>-8.013216e-03</td>\n",
       "      <td>6.145689e-02</td>\n",
       "      <td>6.163049e-16</td>\n",
       "    </tr>\n",
       "    <tr>\n",
       "      <th>hour</th>\n",
       "      <td>-4.526835e-02</td>\n",
       "      <td>2.084798e-02</td>\n",
       "      <td>-8.013216e-03</td>\n",
       "      <td>1.000000e+00</td>\n",
       "      <td>-2.789435e-01</td>\n",
       "      <td>4.240777e-16</td>\n",
       "    </tr>\n",
       "    <tr>\n",
       "      <th>speed_diff</th>\n",
       "      <td>2.398944e-02</td>\n",
       "      <td>-4.206663e-03</td>\n",
       "      <td>6.145689e-02</td>\n",
       "      <td>-2.789435e-01</td>\n",
       "      <td>1.000000e+00</td>\n",
       "      <td>-2.328862e-17</td>\n",
       "    </tr>\n",
       "    <tr>\n",
       "      <th>lt_32</th>\n",
       "      <td>-1.694856e-15</td>\n",
       "      <td>7.105100e-14</td>\n",
       "      <td>6.163049e-16</td>\n",
       "      <td>4.240777e-16</td>\n",
       "      <td>-2.328862e-17</td>\n",
       "      <td>1.000000e+00</td>\n",
       "    </tr>\n",
       "  </tbody>\n",
       "</table>\n",
       "</div>"
      ],
      "text/plain": [
       "                    p01i          tmpf         speed          hour  \\\n",
       "p01i        1.000000e+00  1.752784e-01 -2.825913e-01 -4.526835e-02   \n",
       "tmpf        1.752784e-01  1.000000e+00 -1.123862e-01  2.084798e-02   \n",
       "speed      -2.825913e-01 -1.123862e-01  1.000000e+00 -8.013216e-03   \n",
       "hour       -4.526835e-02  2.084798e-02 -8.013216e-03  1.000000e+00   \n",
       "speed_diff  2.398944e-02 -4.206663e-03  6.145689e-02 -2.789435e-01   \n",
       "lt_32      -1.694856e-15  7.105100e-14  6.163049e-16  4.240777e-16   \n",
       "\n",
       "              speed_diff         lt_32  \n",
       "p01i        2.398944e-02 -1.694856e-15  \n",
       "tmpf       -4.206663e-03  7.105100e-14  \n",
       "speed       6.145689e-02  6.163049e-16  \n",
       "hour       -2.789435e-01  4.240777e-16  \n",
       "speed_diff  1.000000e+00 -2.328862e-17  \n",
       "lt_32      -2.328862e-17  1.000000e+00  "
      ]
     },
     "execution_count": 13,
     "metadata": {},
     "output_type": "execute_result"
    }
   ],
   "source": [
    "df_norm[df_norm['lt_32']>1].corr()"
   ]
  },
  {
   "cell_type": "code",
   "execution_count": 23,
   "metadata": {},
   "outputs": [
    {
     "data": {
      "text/plain": [
       "<matplotlib.legend.Legend at 0x7cd89e3f72b0>"
      ]
     },
     "execution_count": 23,
     "metadata": {},
     "output_type": "execute_result"
    },
    {
     "data": {
      "image/png": "[encoded data removed]",
      "text/plain": [
       "<Figure size 432x288 with 1 Axes>"
      ]
     },
     "metadata": {
      "needs_background": "light"
     },
     "output_type": "display_data"
    }
   ],
   "source": [
    "cold =df_norm[df_norm['lt_32']>1]\n",
    "icy = df_norm[(df_norm['lt_32']>1) & (df_norm['p01i']>0)]\n",
    "\n",
    "df_norm.groupby(df_norm.index.hour).mean()['speed'].plot(label='control')\n",
    "cold.groupby(cold.index.hour).mean()['speed'].plot(label='cold')\n",
    "icy.groupby(icy.index.hour).mean()['speed'].plot(label='cold+wet')\n",
    "plt.legend()"
   ]
  },
  {
   "cell_type": "code",
   "execution_count": null,
   "metadata": {},
   "outputs": [],
   "source": []
  }
 ],
 "metadata": {
  "kernelspec": {
   "display_name": "Python 3",
   "language": "python",
   "name": "python3"
  },
  "language_info": {
   "codemirror_mode": {
    "name": "ipython",
    "version": 3
   },
   "file_extension": ".py",
   "mimetype": "text/x-python",
   "name": "python",
   "nbconvert_exporter": "python",
   "pygments_lexer": "ipython3",
   "version": "3.8.3"
  }
 },
 "nbformat": 4,
 "nbformat_minor": 4
}

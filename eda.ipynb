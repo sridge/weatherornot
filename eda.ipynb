{
 "metadata": {
  "language_info": {
   "codemirror_mode": {
    "name": "ipython",
    "version": 3
   },
   "file_extension": ".py",
   "mimetype": "text/x-python",
   "name": "python",
   "nbconvert_exporter": "python",
   "pygments_lexer": "ipython3",
   "version": "3.8.3-final"
  },
  "orig_nbformat": 2,
  "kernelspec": {
   "name": "python_defaultSpec_1600269448257",
   "display_name": "Python 3.8.3 64-bit ('base': conda)"
  }
 },
 "nbformat": 4,
 "nbformat_minor": 2,
 "cells": [
  {
   "cell_type": "code",
   "execution_count": 1,
   "metadata": {},
   "outputs": [],
   "source": [
    "import pandas as pd\n",
    "import matplotlib.pyplot as plt"
   ]
  },
  {
   "cell_type": "code",
   "execution_count": 59,
   "metadata": {},
   "outputs": [],
   "source": [
    "df = pd.read_csv('/home/smr1020/bumper/CRASH_V_2018.csv',na_values=[' '])"
   ]
  },
  {
   "cell_type": "code",
   "execution_count": 60,
   "metadata": {},
   "outputs": [
    {
     "output_type": "execute_result",
     "data": {
      "text/plain": "          CRN  DISTRICT  COUNTY  MUNICIPALITY POLICE_AGCY  CRASH_YEAR  \\\n0  2018005696         8      36         36202       68T06        2018   \n1  2018000319         2      24         24301       24301        2018   \n2  2018005742         6      23         23111       23111        2018   \n3  2018005777         5      48         48301       48501        2018   \n4  2018003363         9       7          7201       68G01        2018   \n\n   CRASH_MONTH  DAY_OF_WEEK TIME_OF_DAY HOUR_OF_DAY  ...  PED_DEATH_COUNT  \\\n0            1            3        0810          08  ...                0   \n1            1            2        1624          16  ...                0   \n2            1            5        2055          20  ...                0   \n3            1            6        0500          05  ...                0   \n4            1            3        0118          01  ...                0   \n\n   PED_MAJ_INJ_COUNT  MAX_SEVERITY_LEVEL  COMM_VEH_COUNT  DEC_LAT  DEC_LONG  \\\n0                  0                   0               0  40.2356  -76.0459   \n1                  0                   0               0  41.4377  -78.5842   \n2                  0                   8               0  39.9637  -75.2826   \n3                  0                   3               0  40.6022  -75.3741   \n4                  0                   0               0  40.4703  -78.5370   \n\n   RDWY_SURF_TYPE_CD  COUNTY_NAME  MUNICIPALITY_NAME             COUNTY_YEAR  \n0                       Lancaster      Brecknock Twp    CRASH_2018_Lancaster  \n1                             Elk   Saint Marys City          CRASH_2018_Elk  \n2                        Delaware    Upper Darby Twp     CRASH_2018_Delaware  \n3                     Northampton     Bethlehem City  CRASH_2018_Northampton  \n4                           Blair      Allegheny Twp        CRASH_2018_Blair  \n\n[5 rows x 91 columns]",
      "text/html": "<div>\n<style scoped>\n    .dataframe tbody tr th:only-of-type {\n        vertical-align: middle;\n    }\n\n    .dataframe tbody tr th {\n        vertical-align: top;\n    }\n\n    .dataframe thead th {\n        text-align: right;\n    }\n</style>\n<table border=\"1\" class=\"dataframe\">\n  <thead>\n    <tr style=\"text-align: right;\">\n      <th></th>\n      <th>CRN</th>\n      <th>DISTRICT</th>\n      <th>COUNTY</th>\n      <th>MUNICIPALITY</th>\n      <th>POLICE_AGCY</th>\n      <th>CRASH_YEAR</th>\n      <th>CRASH_MONTH</th>\n      <th>DAY_OF_WEEK</th>\n      <th>TIME_OF_DAY</th>\n      <th>HOUR_OF_DAY</th>\n      <th>...</th>\n      <th>PED_DEATH_COUNT</th>\n      <th>PED_MAJ_INJ_COUNT</th>\n      <th>MAX_SEVERITY_LEVEL</th>\n      <th>COMM_VEH_COUNT</th>\n      <th>DEC_LAT</th>\n      <th>DEC_LONG</th>\n      <th>RDWY_SURF_TYPE_CD</th>\n      <th>COUNTY_NAME</th>\n      <th>MUNICIPALITY_NAME</th>\n      <th>COUNTY_YEAR</th>\n    </tr>\n  </thead>\n  <tbody>\n    <tr>\n      <th>0</th>\n      <td>2018005696</td>\n      <td>8</td>\n      <td>36</td>\n      <td>36202</td>\n      <td>68T06</td>\n      <td>2018</td>\n      <td>1</td>\n      <td>3</td>\n      <td>0810</td>\n      <td>08</td>\n      <td>...</td>\n      <td>0</td>\n      <td>0</td>\n      <td>0</td>\n      <td>0</td>\n      <td>40.2356</td>\n      <td>-76.0459</td>\n      <td></td>\n      <td>Lancaster</td>\n      <td>Brecknock Twp</td>\n      <td>CRASH_2018_Lancaster</td>\n    </tr>\n    <tr>\n      <th>1</th>\n      <td>2018000319</td>\n      <td>2</td>\n      <td>24</td>\n      <td>24301</td>\n      <td>24301</td>\n      <td>2018</td>\n      <td>1</td>\n      <td>2</td>\n      <td>1624</td>\n      <td>16</td>\n      <td>...</td>\n      <td>0</td>\n      <td>0</td>\n      <td>0</td>\n      <td>0</td>\n      <td>41.4377</td>\n      <td>-78.5842</td>\n      <td></td>\n      <td>Elk</td>\n      <td>Saint Marys City</td>\n      <td>CRASH_2018_Elk</td>\n    </tr>\n    <tr>\n      <th>2</th>\n      <td>2018005742</td>\n      <td>6</td>\n      <td>23</td>\n      <td>23111</td>\n      <td>23111</td>\n      <td>2018</td>\n      <td>1</td>\n      <td>5</td>\n      <td>2055</td>\n      <td>20</td>\n      <td>...</td>\n      <td>0</td>\n      <td>0</td>\n      <td>8</td>\n      <td>0</td>\n      <td>39.9637</td>\n      <td>-75.2826</td>\n      <td></td>\n      <td>Delaware</td>\n      <td>Upper Darby Twp</td>\n      <td>CRASH_2018_Delaware</td>\n    </tr>\n    <tr>\n      <th>3</th>\n      <td>2018005777</td>\n      <td>5</td>\n      <td>48</td>\n      <td>48301</td>\n      <td>48501</td>\n      <td>2018</td>\n      <td>1</td>\n      <td>6</td>\n      <td>0500</td>\n      <td>05</td>\n      <td>...</td>\n      <td>0</td>\n      <td>0</td>\n      <td>3</td>\n      <td>0</td>\n      <td>40.6022</td>\n      <td>-75.3741</td>\n      <td></td>\n      <td>Northampton</td>\n      <td>Bethlehem City</td>\n      <td>CRASH_2018_Northampton</td>\n    </tr>\n    <tr>\n      <th>4</th>\n      <td>2018003363</td>\n      <td>9</td>\n      <td>7</td>\n      <td>7201</td>\n      <td>68G01</td>\n      <td>2018</td>\n      <td>1</td>\n      <td>3</td>\n      <td>0118</td>\n      <td>01</td>\n      <td>...</td>\n      <td>0</td>\n      <td>0</td>\n      <td>0</td>\n      <td>0</td>\n      <td>40.4703</td>\n      <td>-78.5370</td>\n      <td></td>\n      <td>Blair</td>\n      <td>Allegheny Twp</td>\n      <td>CRASH_2018_Blair</td>\n    </tr>\n  </tbody>\n</table>\n<p>5 rows × 91 columns</p>\n</div>"
     },
     "metadata": {},
     "execution_count": 60
    }
   ],
   "source": [
    "df.head()"
   ]
  },
  {
   "cell_type": "code",
   "execution_count": 61,
   "metadata": {
    "tags": []
   },
   "outputs": [
    {
     "output_type": "execute_result",
     "data": {
      "text/plain": "128411"
     },
     "metadata": {},
     "execution_count": 61
    }
   ],
   "source": [
    "# 01 - Blowing Sand, Soil, Dirt\n",
    "# 02 - Blowing Snow\n",
    "# 03 - Clear\n",
    "# 04 - Cloudy\n",
    "# 05 - Fog, Smog, Smoke\n",
    "# 06 - Freezing Rain or Freezing Drizzle\n",
    "# 07 - Rain\n",
    "# 08 - Severe Crosswinds\n",
    "# 09 - Sleet or Hail\n",
    "# 10 - Snow\n",
    "# 98 - Other\n",
    "# 99 - Unknown\n",
    "\n",
    "dict = {1:'Blowing Sand, Soil, Dirt',\n",
    "2:'Blowing Snow',\n",
    "3:'Clear',\n",
    "4:'Cloudy',\n",
    "5:'Fog, Smog, Smoke',\n",
    "6:'Freezing Rain or Freezing Drizzle',\n",
    "7:'Rain',\n",
    "8:'Severe Crosswinds',\n",
    "9:'Sleet or Hail',\n",
    "10:'Snow',\n",
    "}\n",
    "\n",
    "len(df)\n"
   ]
  },
  {
   "cell_type": "code",
   "execution_count": 62,
   "metadata": {},
   "outputs": [],
   "source": [
    "import numpy as np"
   ]
  },
  {
   "cell_type": "code",
   "execution_count": 63,
   "metadata": {},
   "outputs": [
    {
     "output_type": "execute_result",
     "data": {
      "text/plain": "array([ 1.,  4.,  8.,  6.,  3.,  2.,  5.,  9.,  7., nan])"
     },
     "metadata": {},
     "execution_count": 63
    }
   ],
   "source": [
    "df['WEATHER'].unique()"
   ]
  },
  {
   "cell_type": "code",
   "execution_count": 64,
   "metadata": {},
   "outputs": [],
   "source": [
    "df = df.dropna(subset=['WEATHER'])"
   ]
  },
  {
   "cell_type": "code",
   "execution_count": 65,
   "metadata": {},
   "outputs": [],
   "source": [
    "df = df['WEATHER']"
   ]
  },
  {
   "cell_type": "code",
   "execution_count": null,
   "metadata": {},
   "outputs": [],
   "source": []
  }
 ]
}